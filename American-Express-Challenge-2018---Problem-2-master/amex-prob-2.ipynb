{
 "cells": [
  {
   "cell_type": "code",
   "execution_count": 1,
   "metadata": {},
   "outputs": [],
   "source": [
    "import numpy as np\n",
    "import pandas as pd \n",
    "import xgboost as xgb\n",
    "from sklearn.metrics import accuracy_score,roc_auc_score,confusion_matrix\n",
    "from sklearn.model_selection import train_test_split,cross_val_score,KFold\n",
    "pd.set_option('max_columns',30)\n"
   ]
  },
  {
   "cell_type": "code",
   "execution_count": 2,
   "metadata": {},
   "outputs": [],
   "source": [
    "train=pd.read_csv('/Users/shashankjakka/Downloads/Dataset - Problem 2/train.csv',header=None)\n",
    "test=pd.read_csv('/Users/shashankjakka/Downloads/Dataset - Problem 2/test.csv',header=None)\n",
    "header=pd.read_csv('/Users/shashankjakka/Downloads/Dataset - Problem 2/header.csv')\n",
    "sample=pd.read_csv('/Users/shashankjakka/Downloads/Dataset - Problem 2/sample_submission.csv')"
   ]
  },
  {
   "cell_type": "code",
   "execution_count": null,
   "metadata": {},
   "outputs": [],
   "source": [
    "def impact_coding(data, feature, target='label'):\n",
    "    '''\n",
    "    In this implementation we get the values and the dictionary as two different steps.\n",
    "    This is just because initially we were ignoring the dictionary as a result variable.\n",
    "    \n",
    "    In this implementation the KFolds use shuffling. If you want reproducibility the cv \n",
    "    could be moved to a parameter.\n",
    "    '''\n",
    "    n_folds = 3\n",
    "    n_inner_folds = 3\n",
    "    impact_coded = pd.Series()\n",
    "    \n",
    "    oof_default_mean = data[target].mean() # Gobal mean to use by default (you could further tune this)\n",
    "    kf = KFold(n_splits=n_folds, shuffle=True)\n",
    "    oof_mean_cv = pd.DataFrame()\n",
    "    split = 0\n",
    "    for infold, oof in kf.split(data[feature]):\n",
    "            impact_coded_cv = pd.Series()\n",
    "            kf_inner = KFold(n_splits=n_inner_folds, shuffle=True)\n",
    "            inner_split = 0\n",
    "            inner_oof_mean_cv = pd.DataFrame()\n",
    "            oof_default_inner_mean = data.iloc[infold][target].mean()\n",
    "            for infold_inner, oof_inner in kf_inner.split(data.iloc[infold]):\n",
    "                # The mean to apply to the inner oof split (a 1/n_folds % based on the rest)\n",
    "                oof_mean = data.iloc[infold_inner].groupby(by=feature)[target].mean()\n",
    "                impact_coded_cv = impact_coded_cv.append(data.iloc[infold].apply(\n",
    "                            lambda x: oof_mean[x[feature]]\n",
    "                                      if x[feature] in oof_mean.index\n",
    "                                      else oof_default_inner_mean\n",
    "                            , axis=1))\n",
    "\n",
    "                # Also populate mapping (this has all group -> mean for all inner CV folds)\n",
    "                inner_oof_mean_cv = inner_oof_mean_cv.join(pd.DataFrame(oof_mean), rsuffix=inner_split, how='outer')\n",
    "                inner_oof_mean_cv.fillna(value=oof_default_inner_mean, inplace=True)\n",
    "                inner_split += 1\n",
    "\n",
    "            # Also populate mapping\n",
    "            oof_mean_cv = oof_mean_cv.join(pd.DataFrame(inner_oof_mean_cv), rsuffix=split, how='outer')\n",
    "            oof_mean_cv.fillna(value=oof_default_mean, inplace=True)\n",
    "            split += 1\n",
    "            \n",
    "            impact_coded = impact_coded.append(data.iloc[oof].apply(\n",
    "                            lambda x: inner_oof_mean_cv.loc[x[feature]].mean()\n",
    "                                      if x[feature] in inner_oof_mean_cv.index\n",
    "                                      else oof_default_mean\n",
    "                            , axis=1))\n",
    "\n",
    "    return impact_coded, oof_mean_cv.mean(axis=1), oof_default_mean"
   ]
  },
  {
   "cell_type": "code",
   "execution_count": null,
   "metadata": {},
   "outputs": [],
   "source": []
  },
  {
   "cell_type": "code",
   "execution_count": 3,
   "metadata": {},
   "outputs": [
    {
     "name": "stdout",
     "output_type": "stream",
     "text": [
      "(406709, 56) (174303, 55)\n"
     ]
    }
   ],
   "source": [
    "print train.shape,test.shape"
   ]
  },
  {
   "cell_type": "code",
   "execution_count": 4,
   "metadata": {},
   "outputs": [],
   "source": [
    "train.columns=header.columns\n",
    "test.columns=header.columns[:55]"
   ]
  },
  {
   "cell_type": "code",
   "execution_count": 5,
   "metadata": {},
   "outputs": [
    {
     "data": {
      "text/html": [
       "<div>\n",
       "<style scoped>\n",
       "    .dataframe tbody tr th:only-of-type {\n",
       "        vertical-align: middle;\n",
       "    }\n",
       "\n",
       "    .dataframe tbody tr th {\n",
       "        vertical-align: top;\n",
       "    }\n",
       "\n",
       "    .dataframe thead th {\n",
       "        text-align: right;\n",
       "    }\n",
       "</style>\n",
       "<table border=\"1\" class=\"dataframe\">\n",
       "  <thead>\n",
       "    <tr style=\"text-align: right;\">\n",
       "      <th></th>\n",
       "      <th>key</th>\n",
       "      <th>V1</th>\n",
       "      <th>V2</th>\n",
       "      <th>V3</th>\n",
       "      <th>V4</th>\n",
       "      <th>V5</th>\n",
       "      <th>V6</th>\n",
       "      <th>V7</th>\n",
       "      <th>V8</th>\n",
       "      <th>V9</th>\n",
       "      <th>V10</th>\n",
       "      <th>V11</th>\n",
       "      <th>V12</th>\n",
       "      <th>V13</th>\n",
       "      <th>V14</th>\n",
       "      <th>...</th>\n",
       "      <th>V41</th>\n",
       "      <th>V42</th>\n",
       "      <th>V43</th>\n",
       "      <th>V44</th>\n",
       "      <th>V45</th>\n",
       "      <th>V46</th>\n",
       "      <th>V47</th>\n",
       "      <th>V48</th>\n",
       "      <th>V49</th>\n",
       "      <th>V50</th>\n",
       "      <th>V51</th>\n",
       "      <th>V52</th>\n",
       "      <th>V53</th>\n",
       "      <th>V54</th>\n",
       "      <th>label</th>\n",
       "    </tr>\n",
       "  </thead>\n",
       "  <tbody>\n",
       "    <tr>\n",
       "      <th>0</th>\n",
       "      <td>447095</td>\n",
       "      <td>3452</td>\n",
       "      <td>111</td>\n",
       "      <td>22</td>\n",
       "      <td>433</td>\n",
       "      <td>214</td>\n",
       "      <td>3677</td>\n",
       "      <td>252</td>\n",
       "      <td>210</td>\n",
       "      <td>74</td>\n",
       "      <td>3316</td>\n",
       "      <td>0</td>\n",
       "      <td>0</td>\n",
       "      <td>1</td>\n",
       "      <td>0</td>\n",
       "      <td>...</td>\n",
       "      <td>0</td>\n",
       "      <td>0</td>\n",
       "      <td>0</td>\n",
       "      <td>0</td>\n",
       "      <td>0</td>\n",
       "      <td>0</td>\n",
       "      <td>0</td>\n",
       "      <td>0</td>\n",
       "      <td>0</td>\n",
       "      <td>0</td>\n",
       "      <td>0</td>\n",
       "      <td>0</td>\n",
       "      <td>1</td>\n",
       "      <td>0</td>\n",
       "      <td>0</td>\n",
       "    </tr>\n",
       "    <tr>\n",
       "      <th>1</th>\n",
       "      <td>113427</td>\n",
       "      <td>3093</td>\n",
       "      <td>95</td>\n",
       "      <td>9</td>\n",
       "      <td>124</td>\n",
       "      <td>7</td>\n",
       "      <td>4115</td>\n",
       "      <td>234</td>\n",
       "      <td>227</td>\n",
       "      <td>124</td>\n",
       "      <td>2930</td>\n",
       "      <td>1</td>\n",
       "      <td>0</td>\n",
       "      <td>0</td>\n",
       "      <td>0</td>\n",
       "      <td>...</td>\n",
       "      <td>0</td>\n",
       "      <td>0</td>\n",
       "      <td>1</td>\n",
       "      <td>0</td>\n",
       "      <td>0</td>\n",
       "      <td>0</td>\n",
       "      <td>0</td>\n",
       "      <td>0</td>\n",
       "      <td>0</td>\n",
       "      <td>0</td>\n",
       "      <td>0</td>\n",
       "      <td>0</td>\n",
       "      <td>0</td>\n",
       "      <td>0</td>\n",
       "      <td>1</td>\n",
       "    </tr>\n",
       "    <tr>\n",
       "      <th>2</th>\n",
       "      <td>66435</td>\n",
       "      <td>2551</td>\n",
       "      <td>61</td>\n",
       "      <td>17</td>\n",
       "      <td>90</td>\n",
       "      <td>5</td>\n",
       "      <td>726</td>\n",
       "      <td>231</td>\n",
       "      <td>202</td>\n",
       "      <td>98</td>\n",
       "      <td>751</td>\n",
       "      <td>1</td>\n",
       "      <td>0</td>\n",
       "      <td>0</td>\n",
       "      <td>0</td>\n",
       "      <td>...</td>\n",
       "      <td>0</td>\n",
       "      <td>0</td>\n",
       "      <td>0</td>\n",
       "      <td>0</td>\n",
       "      <td>0</td>\n",
       "      <td>0</td>\n",
       "      <td>0</td>\n",
       "      <td>0</td>\n",
       "      <td>0</td>\n",
       "      <td>0</td>\n",
       "      <td>0</td>\n",
       "      <td>0</td>\n",
       "      <td>0</td>\n",
       "      <td>0</td>\n",
       "      <td>1</td>\n",
       "    </tr>\n",
       "    <tr>\n",
       "      <th>3</th>\n",
       "      <td>8957</td>\n",
       "      <td>2944</td>\n",
       "      <td>135</td>\n",
       "      <td>3</td>\n",
       "      <td>430</td>\n",
       "      <td>13</td>\n",
       "      <td>1868</td>\n",
       "      <td>224</td>\n",
       "      <td>238</td>\n",
       "      <td>149</td>\n",
       "      <td>1199</td>\n",
       "      <td>0</td>\n",
       "      <td>0</td>\n",
       "      <td>1</td>\n",
       "      <td>0</td>\n",
       "      <td>...</td>\n",
       "      <td>0</td>\n",
       "      <td>0</td>\n",
       "      <td>0</td>\n",
       "      <td>0</td>\n",
       "      <td>0</td>\n",
       "      <td>0</td>\n",
       "      <td>0</td>\n",
       "      <td>0</td>\n",
       "      <td>0</td>\n",
       "      <td>0</td>\n",
       "      <td>0</td>\n",
       "      <td>0</td>\n",
       "      <td>0</td>\n",
       "      <td>0</td>\n",
       "      <td>1</td>\n",
       "    </tr>\n",
       "    <tr>\n",
       "      <th>4</th>\n",
       "      <td>434631</td>\n",
       "      <td>3030</td>\n",
       "      <td>327</td>\n",
       "      <td>34</td>\n",
       "      <td>277</td>\n",
       "      <td>101</td>\n",
       "      <td>1973</td>\n",
       "      <td>120</td>\n",
       "      <td>181</td>\n",
       "      <td>190</td>\n",
       "      <td>1693</td>\n",
       "      <td>0</td>\n",
       "      <td>0</td>\n",
       "      <td>1</td>\n",
       "      <td>0</td>\n",
       "      <td>...</td>\n",
       "      <td>0</td>\n",
       "      <td>0</td>\n",
       "      <td>0</td>\n",
       "      <td>0</td>\n",
       "      <td>0</td>\n",
       "      <td>0</td>\n",
       "      <td>1</td>\n",
       "      <td>0</td>\n",
       "      <td>0</td>\n",
       "      <td>0</td>\n",
       "      <td>0</td>\n",
       "      <td>0</td>\n",
       "      <td>0</td>\n",
       "      <td>0</td>\n",
       "      <td>1</td>\n",
       "    </tr>\n",
       "  </tbody>\n",
       "</table>\n",
       "<p>5 rows × 56 columns</p>\n",
       "</div>"
      ],
      "text/plain": [
       "      key    V1   V2  V3   V4   V5    V6   V7   V8   V9   V10  V11  V12  V13  \\\n",
       "0  447095  3452  111  22  433  214  3677  252  210   74  3316    0    0    1   \n",
       "1  113427  3093   95   9  124    7  4115  234  227  124  2930    1    0    0   \n",
       "2   66435  2551   61  17   90    5   726  231  202   98   751    1    0    0   \n",
       "3    8957  2944  135   3  430   13  1868  224  238  149  1199    0    0    1   \n",
       "4  434631  3030  327  34  277  101  1973  120  181  190  1693    0    0    1   \n",
       "\n",
       "   V14  ...    V41  V42  V43  V44  V45  V46  V47  V48  V49  V50  V51  V52  \\\n",
       "0    0  ...      0    0    0    0    0    0    0    0    0    0    0    0   \n",
       "1    0  ...      0    0    1    0    0    0    0    0    0    0    0    0   \n",
       "2    0  ...      0    0    0    0    0    0    0    0    0    0    0    0   \n",
       "3    0  ...      0    0    0    0    0    0    0    0    0    0    0    0   \n",
       "4    0  ...      0    0    0    0    0    0    1    0    0    0    0    0   \n",
       "\n",
       "   V53  V54  label  \n",
       "0    1    0      0  \n",
       "1    0    0      1  \n",
       "2    0    0      1  \n",
       "3    0    0      1  \n",
       "4    0    0      1  \n",
       "\n",
       "[5 rows x 56 columns]"
      ]
     },
     "execution_count": 5,
     "metadata": {},
     "output_type": "execute_result"
    }
   ],
   "source": [
    "train.head()"
   ]
  },
  {
   "cell_type": "code",
   "execution_count": 6,
   "metadata": {},
   "outputs": [
    {
     "data": {
      "text/plain": [
       "2.0"
      ]
     },
     "execution_count": 6,
     "metadata": {},
     "output_type": "execute_result"
    }
   ],
   "source": [
    "train.iloc[:,11:-1].sum(axis=1).sum()/406709.0 ## two categorical variables one hotted into 44 categorical variables"
   ]
  },
  {
   "cell_type": "code",
   "execution_count": 7,
   "metadata": {},
   "outputs": [
    {
     "name": "stdout",
     "output_type": "stream",
     "text": [
      "0.0 11\n",
      "0.448726239153793 12\n",
      "0.5001315436835674 13\n",
      "0.9364484188940987 14\n",
      "1.0 15\n",
      "1.0052174896547654 16\n",
      "1.0181800746971421 17\n",
      "1.0264365922563798 18\n",
      "1.0476778237019588 19\n",
      "1.0504144240722482 20\n",
      "1.0617935673909356 21\n",
      "1.061973056903093 22\n",
      "1.0622484380724302 23\n",
      "1.0642695391545307 24\n",
      "1.1204940141477076 25\n",
      "1.1419786628768973 26\n",
      "1.193563456918829 27\n",
      "1.2235603342930694 28\n",
      "1.2245659673132387 29\n",
      "1.2245708848341197 30\n",
      "1.2295105345591073 31\n",
      "1.235411559616335 32\n",
      "1.2387407212527877 33\n",
      "1.2455711577565287 34\n",
      "1.2614055749934228 35\n",
      "1.2628267385280385 36\n",
      "1.3203986142426156 37\n",
      "1.4200841387822742 38\n",
      "1.4566827879392883 39\n",
      "1.457489261363776 40\n",
      "1.4619027363544943 41\n",
      "1.4637173015595917 42\n",
      "1.465357294773413 43\n",
      "1.6633932369335322 44\n",
      "1.71529521107229 45\n",
      "1.7596045329707481 46\n",
      "1.8495558249264217 47\n",
      "1.9275304947763634 48\n",
      "1.930286765230177 49\n",
      "1.9334905300841634 50\n",
      "1.9337118185238094 51\n",
      "1.9341912768097091 52\n",
      "1.9611442087585964 53\n",
      "1.9848564944468896 54\n",
      "2.0 55\n"
     ]
    }
   ],
   "source": [
    "## find the two categorical varibles\n",
    "for i in range(11,56):\n",
    "    print train.iloc[:,11:i].sum(axis=1).sum()/406709.0,i\n",
    "    \n",
    "## 11-14 one categorical variable, 16-55 another one"
   ]
  },
  {
   "cell_type": "code",
   "execution_count": 8,
   "metadata": {},
   "outputs": [
    {
     "data": {
      "text/plain": [
       "0    0.512288\n",
       "1    0.487712\n",
       "Name: label, dtype: float64"
      ]
     },
     "execution_count": 8,
     "metadata": {},
     "output_type": "execute_result"
    }
   ],
   "source": [
    "train.label.value_counts(normalize=True) ## equally balanced!"
   ]
  },
  {
   "cell_type": "code",
   "execution_count": 9,
   "metadata": {},
   "outputs": [],
   "source": [
    "# train.isnull().sum() ## no nan's"
   ]
  },
  {
   "cell_type": "code",
   "execution_count": 10,
   "metadata": {},
   "outputs": [],
   "source": [
    "# one hot to single column\n",
    "train['cat_1']=train.iloc[:,11:15].values.argmax(axis=1)\n",
    "test['cat_1']=test.iloc[:,11:15].values.argmax(axis=1)\n",
    "\n",
    "train['cat_2']=train.iloc[:,15:-1].values.argmax(axis=1)\n",
    "test['cat_2']=test.iloc[:,15:-1].values.argmax(axis=1)"
   ]
  },
  {
   "cell_type": "code",
   "execution_count": 70,
   "metadata": {},
   "outputs": [],
   "source": [
    "target='label'\n",
    "predictors=[x for x in train.columns if x not in [target,'var','impact_encoded_cat_2']+list(train.columns[11:55].values)]"
   ]
  },
  {
   "cell_type": "code",
   "execution_count": 12,
   "metadata": {},
   "outputs": [],
   "source": [
    "# target='label'\n",
    "# predictors=[x for x in train.columns if x not in ['key',target]]"
   ]
  },
  {
   "cell_type": "code",
   "execution_count": 13,
   "metadata": {},
   "outputs": [],
   "source": [
    "train['sum']=train.loc[:,'V1':'V10'].sum(axis=1)\n",
    "test['sum']=test.loc[:,'V1':'V10'].sum(axis=1)"
   ]
  },
  {
   "cell_type": "code",
   "execution_count": 14,
   "metadata": {},
   "outputs": [],
   "source": [
    "# train['var']=train.loc[:,'V1':'V10'].std(axis=1)\n",
    "# test['var']=test.loc[:,'V1':'V10'].std(axis=1)"
   ]
  },
  {
   "cell_type": "code",
   "execution_count": 15,
   "metadata": {},
   "outputs": [],
   "source": [
    "# predictors.remove('cat_2')"
   ]
  },
  {
   "cell_type": "code",
   "execution_count": 86,
   "metadata": {},
   "outputs": [],
   "source": [
    "X_train,X_test,y_train,y_test=train_test_split(train[predictors],train[target],test_size=0.3)"
   ]
  },
  {
   "cell_type": "code",
   "execution_count": 55,
   "metadata": {},
   "outputs": [
    {
     "name": "stdout",
     "output_type": "stream",
     "text": [
      "(284696, 13) (284696,)\n"
     ]
    }
   ],
   "source": [
    "print X_train.shape,y_train.shape"
   ]
  },
  {
   "cell_type": "code",
   "execution_count": 72,
   "metadata": {},
   "outputs": [
    {
     "data": {
      "text/html": [
       "<div>\n",
       "<style scoped>\n",
       "    .dataframe tbody tr th:only-of-type {\n",
       "        vertical-align: middle;\n",
       "    }\n",
       "\n",
       "    .dataframe tbody tr th {\n",
       "        vertical-align: top;\n",
       "    }\n",
       "\n",
       "    .dataframe thead th {\n",
       "        text-align: right;\n",
       "    }\n",
       "</style>\n",
       "<table border=\"1\" class=\"dataframe\">\n",
       "  <thead>\n",
       "    <tr style=\"text-align: right;\">\n",
       "      <th></th>\n",
       "      <th>key</th>\n",
       "      <th>V1</th>\n",
       "      <th>V2</th>\n",
       "      <th>V3</th>\n",
       "      <th>V4</th>\n",
       "      <th>V5</th>\n",
       "      <th>V6</th>\n",
       "      <th>V7</th>\n",
       "      <th>V8</th>\n",
       "      <th>V9</th>\n",
       "      <th>V10</th>\n",
       "      <th>cat_1</th>\n",
       "      <th>cat_2</th>\n",
       "      <th>sum</th>\n",
       "    </tr>\n",
       "  </thead>\n",
       "  <tbody>\n",
       "    <tr>\n",
       "      <th>0</th>\n",
       "      <td>447095</td>\n",
       "      <td>3452</td>\n",
       "      <td>111</td>\n",
       "      <td>22</td>\n",
       "      <td>433</td>\n",
       "      <td>214</td>\n",
       "      <td>3677</td>\n",
       "      <td>252</td>\n",
       "      <td>210</td>\n",
       "      <td>74</td>\n",
       "      <td>3316</td>\n",
       "      <td>2</td>\n",
       "      <td>38</td>\n",
       "      <td>11761</td>\n",
       "    </tr>\n",
       "    <tr>\n",
       "      <th>1</th>\n",
       "      <td>113427</td>\n",
       "      <td>3093</td>\n",
       "      <td>95</td>\n",
       "      <td>9</td>\n",
       "      <td>124</td>\n",
       "      <td>7</td>\n",
       "      <td>4115</td>\n",
       "      <td>234</td>\n",
       "      <td>227</td>\n",
       "      <td>124</td>\n",
       "      <td>2930</td>\n",
       "      <td>0</td>\n",
       "      <td>28</td>\n",
       "      <td>10958</td>\n",
       "    </tr>\n",
       "    <tr>\n",
       "      <th>2</th>\n",
       "      <td>66435</td>\n",
       "      <td>2551</td>\n",
       "      <td>61</td>\n",
       "      <td>17</td>\n",
       "      <td>90</td>\n",
       "      <td>5</td>\n",
       "      <td>726</td>\n",
       "      <td>231</td>\n",
       "      <td>202</td>\n",
       "      <td>98</td>\n",
       "      <td>751</td>\n",
       "      <td>0</td>\n",
       "      <td>22</td>\n",
       "      <td>4732</td>\n",
       "    </tr>\n",
       "    <tr>\n",
       "      <th>3</th>\n",
       "      <td>8957</td>\n",
       "      <td>2944</td>\n",
       "      <td>135</td>\n",
       "      <td>3</td>\n",
       "      <td>430</td>\n",
       "      <td>13</td>\n",
       "      <td>1868</td>\n",
       "      <td>224</td>\n",
       "      <td>238</td>\n",
       "      <td>149</td>\n",
       "      <td>1199</td>\n",
       "      <td>2</td>\n",
       "      <td>22</td>\n",
       "      <td>7203</td>\n",
       "    </tr>\n",
       "    <tr>\n",
       "      <th>4</th>\n",
       "      <td>434631</td>\n",
       "      <td>3030</td>\n",
       "      <td>327</td>\n",
       "      <td>34</td>\n",
       "      <td>277</td>\n",
       "      <td>101</td>\n",
       "      <td>1973</td>\n",
       "      <td>120</td>\n",
       "      <td>181</td>\n",
       "      <td>190</td>\n",
       "      <td>1693</td>\n",
       "      <td>2</td>\n",
       "      <td>32</td>\n",
       "      <td>7926</td>\n",
       "    </tr>\n",
       "  </tbody>\n",
       "</table>\n",
       "</div>"
      ],
      "text/plain": [
       "      key    V1   V2  V3   V4   V5    V6   V7   V8   V9   V10  cat_1  cat_2  \\\n",
       "0  447095  3452  111  22  433  214  3677  252  210   74  3316      2     38   \n",
       "1  113427  3093   95   9  124    7  4115  234  227  124  2930      0     28   \n",
       "2   66435  2551   61  17   90    5   726  231  202   98   751      0     22   \n",
       "3    8957  2944  135   3  430   13  1868  224  238  149  1199      2     22   \n",
       "4  434631  3030  327  34  277  101  1973  120  181  190  1693      2     32   \n",
       "\n",
       "     sum  \n",
       "0  11761  \n",
       "1  10958  \n",
       "2   4732  \n",
       "3   7203  \n",
       "4   7926  "
      ]
     },
     "execution_count": 72,
     "metadata": {},
     "output_type": "execute_result"
    }
   ],
   "source": [
    "train[predictors].head()"
   ]
  },
  {
   "cell_type": "code",
   "execution_count": 50,
   "metadata": {},
   "outputs": [],
   "source": [
    "categorical_features=['cat_2']"
   ]
  },
  {
   "cell_type": "code",
   "execution_count": 51,
   "metadata": {},
   "outputs": [
    {
     "name": "stdout",
     "output_type": "stream",
     "text": [
      "Impact coding for cat_2\n"
     ]
    }
   ],
   "source": [
    "\n",
    "# Apply the encoding to training and test data, and preserve the mapping# Apply \n",
    "impact_coding_map = {}\n",
    "for f in categorical_features[:]:\n",
    "    print(\"Impact coding for {}\".format(f))\n",
    "    train[\"impact_encoded_{}\".format(f)], impact_coding_mapping, default_coding = impact_coding(train, f,'label')\n",
    "    impact_coding_map[f] = (impact_coding_mapping, default_coding)\n",
    "    mapping, default_mean = impact_coding_map[f]\n",
    "    test[\"impact_encoded_{}\".format(f)] = test.apply(lambda x: mapping[x[f]]\n",
    "                                                                         if x[f] in mapping\n",
    "                                                                         else default_mean\n",
    "                                                               , axis=1)\n"
   ]
  },
  {
   "cell_type": "code",
   "execution_count": 44,
   "metadata": {
    "scrolled": true
   },
   "outputs": [
    {
     "name": "stdout",
     "output_type": "stream",
     "text": [
      "0.9233412503375773\n",
      "0.9637042008659946\n",
      "0.9626747098485731\n",
      "0.9603980695445771\n",
      "0.9621117965587815\n",
      "0.9428611923641423\n",
      "0.9643676237651209\n",
      "0.9641220259861455\n",
      "0.9631747862978866\n",
      "0.9464211919853576\n",
      "0.9596705063815393\n",
      "0.9544401020724322\n"
     ]
    }
   ],
   "source": [
    "## All features have importances! \n",
    "for i in range(len(predictors)):\n",
    "    bst,probs=run(X_train.loc[:,X_train.columns!=predictors[i]],y_train,X_test.loc[:,X_train.columns!=predictors[i]],params)\n",
    "    print roc_auc_score(y_test,probs)"
   ]
  },
  {
   "cell_type": "code",
   "execution_count": 52,
   "metadata": {},
   "outputs": [
    {
     "data": {
      "text/plain": [
       "(406709, 60)"
      ]
     },
     "execution_count": 52,
     "metadata": {},
     "output_type": "execute_result"
    }
   ],
   "source": [
    "train.shape"
   ]
  },
  {
   "cell_type": "code",
   "execution_count": 76,
   "metadata": {},
   "outputs": [],
   "source": [
    "# from xgboost.sklearn import XGBClassifier\n",
    "# from sklearn.calibration import CalibratedClassifierCV\n",
    "# xg=XGBClassifier(learning_rate=0.4,max_depth=20,n_estimators=700)\n",
    "\n",
    "# cal=CalibratedClassifierCV(base_estimator=xg,cv=2)\n",
    "# cal.fit(X_train,y_train)\n",
    "# cpreds=cal.predict(X_test)\n",
    "# print accuracy_score(y_test,cpreds)\n",
    "# print confusion_matrix(y_test,cpreds)"
   ]
  },
  {
   "cell_type": "code",
   "execution_count": 75,
   "metadata": {},
   "outputs": [],
   "source": [
    "# xg=XGBClassifier(learning_rate=0.4,max_depth=20,n_estimators=700)\n",
    "# xg.fit(X_train,y_train)\n",
    "# xpreds=xg.predict(X_test)\n",
    "# print accuracy_score(y_test,xpreds)\n",
    "# print confusion_matrix(y_test,xpreds)"
   ]
  },
  {
   "cell_type": "code",
   "execution_count": 83,
   "metadata": {},
   "outputs": [
    {
     "name": "stdout",
     "output_type": "stream",
     "text": [
      "0.9982231540842178\n"
     ]
    }
   ],
   "source": [
    "bst,probs=run(X_train,y_train,X_test,params)\n",
    "print roc_auc_score(y_test,probs)"
   ]
  },
  {
   "cell_type": "code",
   "execution_count": 84,
   "metadata": {},
   "outputs": [],
   "source": [
    "## gradient boosting\n",
    "def run(train,lables,test,params):\n",
    "    dtrain=xgb.DMatrix(train,label=lables)\n",
    "    dtest=xgb.DMatrix(test)\n",
    "    bst=xgb.train(dtrain=dtrain,params=params,num_boost_round=700)\n",
    "    preds=bst.predict(dtest)\n",
    "    return bst,preds\n",
    "\n",
    "params={\n",
    "    'objective':'binary:logistic',\n",
    "    'max_depth':27,\n",
    "    'eta':0.08,\n",
    "    'subsample':0.9,\n",
    "#     'eval_metric': 'auc'\n",
    "}\n",
    "    "
   ]
  },
  {
   "cell_type": "code",
   "execution_count": null,
   "metadata": {},
   "outputs": [],
   "source": [
    "bst,probs=run(X_train,y_train,X_test,params)\n",
    "print roc_auc_score(y_test,probs)"
   ]
  },
  {
   "cell_type": "code",
   "execution_count": 29,
   "metadata": {},
   "outputs": [
    {
     "name": "stdout",
     "output_type": "stream",
     "text": [
      "0.9980371880281691\n"
     ]
    }
   ],
   "source": [
    "bst,probs=run(X_train,y_train,X_test,params)\n",
    "print roc_auc_score(y_test,probs)"
   ]
  },
  {
   "cell_type": "code",
   "execution_count": 20,
   "metadata": {},
   "outputs": [
    {
     "name": "stdout",
     "output_type": "stream",
     "text": [
      "0.9732405563341611\n",
      "[[60832  1771]\n",
      " [ 1494 57916]]\n"
     ]
    }
   ],
   "source": [
    "preds=(probs>0.5).astype('int')\n",
    "print accuracy_score(y_test,preds)\n",
    "print confusion_matrix(y_test,preds)"
   ]
  },
  {
   "cell_type": "code",
   "execution_count": 78,
   "metadata": {},
   "outputs": [],
   "source": [
    "bst,probs=run(train[predictors],train[target],test[predictors],params)"
   ]
  },
  {
   "cell_type": "code",
   "execution_count": 79,
   "metadata": {},
   "outputs": [
    {
     "data": {
      "text/plain": [
       "array([9.9760097e-01, 9.9703950e-01, 8.1188893e-01, ..., 3.3300663e-03,\n",
       "       9.9696046e-01, 9.0614434e-05], dtype=float32)"
      ]
     },
     "execution_count": 79,
     "metadata": {},
     "output_type": "execute_result"
    }
   ],
   "source": [
    "probs"
   ]
  },
  {
   "cell_type": "code",
   "execution_count": 80,
   "metadata": {},
   "outputs": [],
   "source": [
    "## put results \n",
    "result=pd.DataFrame()\n",
    "result['key']=test.key\n",
    "result['score']=probs"
   ]
  },
  {
   "cell_type": "code",
   "execution_count": 81,
   "metadata": {},
   "outputs": [],
   "source": [
    "result.to_csv('/Users/shashankjakka/Downloads/Dataset - Problem 2/0.99824local14.08lr23d.csv',index=False)\n",
    "\n",
    "# lgb500l0.01lr16d --> 0.96672"
   ]
  },
  {
   "cell_type": "code",
   "execution_count": null,
   "metadata": {},
   "outputs": [],
   "source": []
  },
  {
   "cell_type": "code",
   "execution_count": null,
   "metadata": {},
   "outputs": [],
   "source": []
  },
  {
   "cell_type": "code",
   "execution_count": 155,
   "metadata": {},
   "outputs": [],
   "source": [
    "## Light gbm starts, fast but a bit less accuracy than xgb"
   ]
  },
  {
   "cell_type": "code",
   "execution_count": 18,
   "metadata": {},
   "outputs": [],
   "source": [
    "import lightgbm as lgb\n",
    "lgb_train = lgb.Dataset(train[predictors], train[target])\n",
    "lgb_eval = lgb.Dataset(X_test, y_test, reference=lgb_train)"
   ]
  },
  {
   "cell_type": "code",
   "execution_count": 22,
   "metadata": {},
   "outputs": [],
   "source": [
    "paramsl = {\n",
    "    'task': 'train',\n",
    "    'boosting_type': 'gbdt',\n",
    "    'objective': 'binary',\n",
    "    'metric': 'auc',\n",
    "    'num_leaves': 500,\n",
    "    'learning_rate': 0.01,\n",
    "    'max_depth' : 16\n",
    "}\n"
   ]
  },
  {
   "cell_type": "code",
   "execution_count": 23,
   "metadata": {
    "scrolled": true
   },
   "outputs": [],
   "source": [
    "gbm = lgb.train(paramsl,\n",
    "                lgb_train,\n",
    "                num_boost_round=8000)\n",
    "                valid_sets=lgb_eval,\n",
    "                feval=exp_met,\n",
    "                early_stopping_rounds=100"
   ]
  },
  {
   "cell_type": "code",
   "execution_count": 24,
   "metadata": {},
   "outputs": [],
   "source": [
    "lprobs=gbm.predict(test[predictors])"
   ]
  },
  {
   "cell_type": "code",
   "execution_count": 25,
   "metadata": {},
   "outputs": [
    {
     "data": {
      "text/plain": [
       "array([9.98393670e-01, 9.90046993e-01, 8.80939867e-01, ...,\n",
       "       9.68045661e-04, 9.99657191e-01, 3.80953725e-05])"
      ]
     },
     "execution_count": 25,
     "metadata": {},
     "output_type": "execute_result"
    }
   ],
   "source": [
    "lprobs"
   ]
  },
  {
   "cell_type": "code",
   "execution_count": null,
   "metadata": {},
   "outputs": [],
   "source": []
  },
  {
   "cell_type": "code",
   "execution_count": 194,
   "metadata": {},
   "outputs": [
    {
     "data": {
      "text/plain": [
       "<matplotlib.axes._subplots.AxesSubplot at 0x1a0f9b19d0>"
      ]
     },
     "execution_count": 194,
     "metadata": {},
     "output_type": "execute_result"
    },
    {
     "data": {
      "image/png": "[encoded data removed]",
      "text/plain": [
       "<matplotlib.figure.Figure at 0x1a0f973790>"
      ]
     },
     "metadata": {},
     "output_type": "display_data"
    }
   ],
   "source": [
    "import matplotlib.pyplot as plt\n",
    "%matplotlib inline\n",
    "lgb.plot_importance(gbm,importance_type='gain')"
   ]
  },
  {
   "cell_type": "code",
   "execution_count": 204,
   "metadata": {},
   "outputs": [],
   "source": [
    "lpreds=gbm.predict(test[predictors])"
   ]
  },
  {
   "cell_type": "code",
   "execution_count": 198,
   "metadata": {},
   "outputs": [
    {
     "data": {
      "text/plain": [
       "0         9.936960e-01\n",
       "1         1.000000e+00\n",
       "2         9.690191e-01\n",
       "3         9.939958e-01\n",
       "4         9.702435e-01\n",
       "5         9.999625e-01\n",
       "6         9.996421e-01\n",
       "7         2.881391e-12\n",
       "8         9.984350e-01\n",
       "9         9.822939e-01\n",
       "10        9.365729e-01\n",
       "11        5.574606e-09\n",
       "12        1.697048e-01\n",
       "13        8.533031e-01\n",
       "14        5.426467e-05\n",
       "15        7.573846e-01\n",
       "16        9.508662e-01\n",
       "17        4.807048e-02\n",
       "18        9.967710e-01\n",
       "19        9.005926e-01\n",
       "20        7.903912e-01\n",
       "21        9.991511e-01\n",
       "22        1.490232e-01\n",
       "23        1.542870e-04\n",
       "24        9.938509e-01\n",
       "25        1.864600e-01\n",
       "26        9.786288e-01\n",
       "27        4.333691e-01\n",
       "28        1.000000e+00\n",
       "29        9.941212e-01\n",
       "              ...     \n",
       "174273    9.867369e-01\n",
       "174274    1.835486e-09\n",
       "174275    4.460764e-17\n",
       "174276    9.999700e-01\n",
       "174277    9.937459e-01\n",
       "174278    3.229063e-04\n",
       "174279    9.995765e-01\n",
       "174280    2.560454e-02\n",
       "174281    4.679931e-06\n",
       "174282    2.745668e-03\n",
       "174283    1.559425e-04\n",
       "174284    1.175779e-09\n",
       "174285    9.999430e-01\n",
       "174286    9.999998e-01\n",
       "174287    7.521931e-11\n",
       "174288    2.683144e-20\n",
       "174289    7.446422e-01\n",
       "174290    1.081343e-03\n",
       "174291    2.698353e-05\n",
       "174292    3.339509e-15\n",
       "174293    8.424787e-01\n",
       "174294    3.534994e-03\n",
       "174295    8.727601e-03\n",
       "174296    9.988775e-01\n",
       "174297    9.999556e-01\n",
       "174298    2.449329e-03\n",
       "174299    3.576457e-13\n",
       "174300    2.445416e-02\n",
       "174301    9.646601e-01\n",
       "174302    7.636447e-06\n",
       "Length: 174303, dtype: float64"
      ]
     },
     "execution_count": 198,
     "metadata": {},
     "output_type": "execute_result"
    }
   ],
   "source": [
    "pd.Series(lpreds)"
   ]
  },
  {
   "cell_type": "code",
   "execution_count": 49,
   "metadata": {},
   "outputs": [],
   "source": [
    "from scipy.stats import pearsonr"
   ]
  },
  {
   "cell_type": "code",
   "execution_count": 51,
   "metadata": {},
   "outputs": [
    {
     "data": {
      "text/plain": [
       "(0.9940074605755469, 0.0)"
      ]
     },
     "execution_count": 51,
     "metadata": {},
     "output_type": "execute_result"
    }
   ],
   "source": [
    "pearsonr(o.score,probs) ## both are not diverse enough for ensembling"
   ]
  },
  {
   "cell_type": "code",
   "execution_count": null,
   "metadata": {},
   "outputs": [],
   "source": []
  }
 ],
 "metadata": {
  "kernelspec": {
   "display_name": "Python 2",
   "language": "python",
   "name": "python2"
  },
  "language_info": {
   "codemirror_mode": {
    "name": "ipython",
    "version": 2
   },
   "file_extension": ".py",
   "mimetype": "text/x-python",
   "name": "python",
   "nbconvert_exporter": "python",
   "pygments_lexer": "ipython2",
   "version": "2.7.14"
  }
 },
 "nbformat": 4,
 "nbformat_minor": 2
}
