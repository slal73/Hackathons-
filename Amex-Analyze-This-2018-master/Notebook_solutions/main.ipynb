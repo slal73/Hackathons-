{
 "cells": [
  {
   "cell_type": "code",
   "execution_count": 1,
   "metadata": {},
   "outputs": [
    {
     "name": "stdout",
     "output_type": "stream",
     "text": [
      "height has been deprecated.\n",
      "\n"
     ]
    }
   ],
   "source": [
    "import pandas as pd\n",
    "import numpy as np\n",
    "import matplotlib.pyplot as plt\n",
    "from sklearn.preprocessing import StandardScaler\n",
    "from sklearn.model_selection import train_test_split\n",
    "from sklearn.ensemble import RandomForestClassifier\n",
    "from sklearn.ensemble import GradientBoostingClassifier\n",
    "import xgboost as xgb\n",
    "from xgboost.sklearn import XGBClassifier\n",
    "from sklearn.linear_model import LogisticRegression\n",
    "from sklearn.model_selection import GridSearchCV\n",
    "from sklearn.metrics import roc_auc_score\n",
    "from sklearn.ensemble import AdaBoostClassifier\n",
    "from sklearn.decomposition import PCA\n",
    "from sklearn.cluster import DBSCAN\n",
    "from sklearn.svm import SVC\n",
    "from sklearn.neural_network import MLPClassifier\n",
    "from sklearn.naive_bayes import GaussianNB\n",
    "from sklearn.naive_bayes import MultinomialNB\n",
    "%matplotlib inline\n",
    "\n",
    "pd.set_option('display.height', 1000)\n",
    "pd.set_option('display.max_rows', 500)\n",
    "pd.set_option('display.max_columns', 500)\n",
    "pd.set_option('display.width', 1000)"
   ]
  },
  {
   "cell_type": "code",
   "execution_count": 2,
   "metadata": {
    "collapsed": true
   },
   "outputs": [],
   "source": [
    "data = pd.read_csv('Training_dataset.csv')\n",
    "# data.head(10)"
   ]
  },
  {
   "cell_type": "code",
   "execution_count": 3,
   "metadata": {
    "collapsed": true
   },
   "outputs": [],
   "source": [
    "data.drop(['application_key'],axis=1, inplace=True)\n",
    "# data.head()"
   ]
  },
  {
   "cell_type": "markdown",
   "metadata": {},
   "source": [
    "## Delete useless features"
   ]
  },
  {
   "cell_type": "code",
   "execution_count": 4,
   "metadata": {
    "collapsed": true
   },
   "outputs": [],
   "source": [
    "# cols = data.columns\n",
    "\n",
    "# for i in cols:\n",
    "#     count = data[i].isnull().sum()\n",
    "#     if count>30000:\n",
    "#         data.drop([i], axis=1, inplace=True)\n",
    "# #     print (count)"
   ]
  },
  {
   "cell_type": "code",
   "execution_count": 5,
   "metadata": {},
   "outputs": [
    {
     "name": "stdout",
     "output_type": "stream",
     "text": [
      "48\n"
     ]
    }
   ],
   "source": [
    "new_cols = data.columns\n",
    "print(len(new_cols))"
   ]
  },
  {
   "cell_type": "code",
   "execution_count": 6,
   "metadata": {},
   "outputs": [
    {
     "name": "stdout",
     "output_type": "stream",
     "text": [
      "Index(['mvar1', 'mvar2', 'mvar3', 'mvar4', 'mvar5', 'mvar6', 'mvar7', 'mvar8', 'mvar9', 'mvar10', 'mvar11', 'mvar12', 'mvar13', 'mvar14', 'mvar15', 'mvar16', 'mvar17', 'mvar18', 'mvar19', 'mvar20', 'mvar21', 'mvar22', 'mvar23', 'mvar24', 'mvar25', 'mvar26', 'mvar27', 'mvar28', 'mvar29', 'mvar30', 'mvar31', 'mvar32', 'mvar33', 'mvar34', 'mvar35', 'mvar36', 'mvar37', 'mvar38', 'mvar39', 'mvar40', 'mvar41', 'mvar42', 'mvar43', 'mvar44', 'mvar45', 'mvar46', 'mvar47', 'default_ind'], dtype='object')\n"
     ]
    }
   ],
   "source": [
    "print(new_cols)"
   ]
  },
  {
   "cell_type": "markdown",
   "metadata": {},
   "source": [
    "### Replace values in mvar47"
   ]
  },
  {
   "cell_type": "code",
   "execution_count": 7,
   "metadata": {
    "collapsed": true
   },
   "outputs": [],
   "source": [
    "# C=0  L=1\n",
    "\n",
    "data['mvar47'].replace(to_replace='C', value=0, inplace=True)\n",
    "data['mvar47'].replace(to_replace='L', value=1, inplace=True)"
   ]
  },
  {
   "cell_type": "markdown",
   "metadata": {},
   "source": [
    "### Replace NaN values with median"
   ]
  },
  {
   "cell_type": "code",
   "execution_count": 8,
   "metadata": {},
   "outputs": [
    {
     "name": "stdout",
     "output_type": "stream",
     "text": [
      "\n"
     ]
    }
   ],
   "source": [
    "data.fillna(value=data.median(axis=0), inplace=True)\n",
    "print()"
   ]
  },
  {
   "cell_type": "markdown",
   "metadata": {},
   "source": [
    "## Scale the data"
   ]
  },
  {
   "cell_type": "code",
   "execution_count": 9,
   "metadata": {
    "collapsed": true
   },
   "outputs": [],
   "source": [
    "feature = data.columns[:-1]\n",
    "target = data.columns[-1]\n",
    "X = data[feature]\n",
    "y = data[target]"
   ]
  },
  {
   "cell_type": "code",
   "execution_count": 10,
   "metadata": {
    "collapsed": true
   },
   "outputs": [],
   "source": [
    "sc = StandardScaler()\n",
    "X = sc.fit_transform(X)"
   ]
  },
  {
   "cell_type": "markdown",
   "metadata": {},
   "source": [
    "## Principal Component Analysis"
   ]
  },
  {
   "cell_type": "code",
   "execution_count": 11,
   "metadata": {
    "collapsed": true
   },
   "outputs": [],
   "source": [
    "pca = PCA(n_components=2, random_state=1)\n",
    "principal_components = pca.fit_transform(X)"
   ]
  },
  {
   "cell_type": "code",
   "execution_count": 13,
   "metadata": {},
   "outputs": [
    {
     "data": {
      "text/plain": [
       "<matplotlib.collections.PathCollection at 0x7fcba28dc208>"
      ]
     },
     "execution_count": 13,
     "metadata": {},
     "output_type": "execute_result"
    },
    {
     "data": {
      "image/png": "[encoded data removed]",
      "text/plain": [
       "<matplotlib.figure.Figure at 0x7fcba29bd780>"
      ]
     },
     "metadata": {},
     "output_type": "display_data"
    }
   ],
   "source": [
    "plt.scatter(principal_components[:,0],principal_components[:,1], c = y)"
   ]
  },
  {
   "cell_type": "markdown",
   "metadata": {},
   "source": [
    "### DBSCAN to get noise points"
   ]
  },
  {
   "cell_type": "code",
   "execution_count": 14,
   "metadata": {
    "collapsed": true
   },
   "outputs": [],
   "source": [
    "# db = DBSCAN(eps=0.5, min_samples=5,n_jobs=2).fit(principal_components)\n",
    "# labels = db.labels_\n",
    "# n_clusters = len(set(labels)) - (1 if -1 in labels else 0)"
   ]
  },
  {
   "cell_type": "markdown",
   "metadata": {},
   "source": [
    "## Brute Force"
   ]
  },
  {
   "cell_type": "code",
   "execution_count": 15,
   "metadata": {},
   "outputs": [
    {
     "data": {
      "text/plain": [
       "Int64Index([  121,   441,   912,  1983,  2781,  2959,  3215,  3529,  3631,  4077,\n",
       "            ...\n",
       "            75877, 77122, 77702, 78280, 78633, 79047, 79066, 79425, 79610, 79984], dtype='int64', length=268)"
      ]
     },
     "execution_count": 15,
     "metadata": {},
     "output_type": "execute_result"
    }
   ],
   "source": [
    "principal_components = pd.DataFrame(principal_components)\n",
    "drop_index = principal_components[(principal_components[principal_components.columns[0]] > 10) | (principal_components[principal_components.columns[1]]>25) | (principal_components[principal_components.columns[0]]<-9) | (4*principal_components[principal_components.columns[0]] + 5*principal_components[principal_components.columns[1]]>90 ) ].index\n",
    "drop_index"
   ]
  },
  {
   "cell_type": "markdown",
   "metadata": {},
   "source": [
    "### Drop those outliers"
   ]
  },
  {
   "cell_type": "code",
   "execution_count": 16,
   "metadata": {
    "collapsed": true
   },
   "outputs": [],
   "source": [
    "data.drop(drop_index, axis=0, inplace=True)\n",
    "feature = data.columns[:-1]\n",
    "target = data.columns[-1]\n",
    "X = data[feature]\n",
    "y = data[target]"
   ]
  },
  {
   "cell_type": "code",
   "execution_count": 17,
   "metadata": {},
   "outputs": [
    {
     "data": {
      "text/plain": [
       "<matplotlib.collections.PathCollection at 0x7fcba2876d30>"
      ]
     },
     "execution_count": 17,
     "metadata": {},
     "output_type": "execute_result"
    },
    {
     "data": {
      "image/png": "[encoded data removed]",
      "text/plain": [
       "<matplotlib.figure.Figure at 0x7fcba29bd358>"
      ]
     },
     "metadata": {},
     "output_type": "display_data"
    }
   ],
   "source": [
    "principal_components.drop(drop_index, axis=0, inplace=True)\n",
    "principal_components = principal_components.as_matrix()\n",
    "plt.scatter(principal_components[:,0],principal_components[:,1], c = y)"
   ]
  },
  {
   "cell_type": "markdown",
   "metadata": {},
   "source": [
    "### Scale the data"
   ]
  },
  {
   "cell_type": "code",
   "execution_count": 18,
   "metadata": {
    "collapsed": true
   },
   "outputs": [],
   "source": [
    "sc = StandardScaler()\n",
    "X = sc.fit_transform(X)"
   ]
  },
  {
   "cell_type": "markdown",
   "metadata": {},
   "source": [
    "### Train test split"
   ]
  },
  {
   "cell_type": "code",
   "execution_count": 19,
   "metadata": {
    "collapsed": true
   },
   "outputs": [],
   "source": [
    "X_train, X_test, y_train, y_test = train_test_split(X, y, test_size=0.3, random_state=1)"
   ]
  },
  {
   "cell_type": "markdown",
   "metadata": {},
   "source": [
    "### Models"
   ]
  },
  {
   "cell_type": "code",
   "execution_count": 604,
   "metadata": {
    "collapsed": true
   },
   "outputs": [],
   "source": [
    "random = RandomForestClassifier(n_estimators=200, verbose=1, n_jobs=-1, oob_score=True, random_state=1)\n",
    "boost = GradientBoostingClassifier(n_estimators=300,random_state=1)\n",
    "xgboost = XGBClassifier()"
   ]
  },
  {
   "cell_type": "code",
   "execution_count": 605,
   "metadata": {},
   "outputs": [
    {
     "name": "stderr",
     "output_type": "stream",
     "text": [
      "[Parallel(n_jobs=-1)]: Done  42 tasks      | elapsed:    4.5s\n",
      "[Parallel(n_jobs=-1)]: Done 192 tasks      | elapsed:   18.6s\n",
      "[Parallel(n_jobs=-1)]: Done 200 out of 200 | elapsed:   19.3s finished\n",
      "[Parallel(n_jobs=4)]: Done  42 tasks      | elapsed:    0.3s\n",
      "[Parallel(n_jobs=4)]: Done 192 tasks      | elapsed:    1.1s\n",
      "[Parallel(n_jobs=4)]: Done 200 out of 200 | elapsed:    1.2s finished\n",
      "[Parallel(n_jobs=4)]: Done  42 tasks      | elapsed:    0.1s\n"
     ]
    },
    {
     "name": "stdout",
     "output_type": "stream",
     "text": [
      "1.0\n",
      "0.810242474916388\n",
      "0.804826918942163\n"
     ]
    },
    {
     "name": "stderr",
     "output_type": "stream",
     "text": [
      "[Parallel(n_jobs=4)]: Done 192 tasks      | elapsed:    0.6s\n",
      "[Parallel(n_jobs=4)]: Done 200 out of 200 | elapsed:    0.6s finished\n"
     ]
    }
   ],
   "source": [
    "random.fit(X_train, y_train)\n",
    "\n",
    "train_score = random.score(X_train, y_train)\n",
    "test_score = random.score(X_test, y_test)\n",
    "oob_score = random.oob_score_\n",
    "\n",
    "print(train_score)\n",
    "print(test_score)\n",
    "print(oob_score)"
   ]
  },
  {
   "cell_type": "markdown",
   "metadata": {},
   "source": [
    "## Grid search CV Random forest"
   ]
  },
  {
   "cell_type": "code",
   "execution_count": 183,
   "metadata": {},
   "outputs": [
    {
     "name": "stdout",
     "output_type": "stream",
     "text": [
      "Fitting 3 folds for each of 4 candidates, totalling 12 fits\n"
     ]
    },
    {
     "name": "stderr",
     "output_type": "stream",
     "text": [
      "[Parallel(n_jobs=-1)]: Done  42 tasks      | elapsed:    2.1s\n",
      "[Parallel(n_jobs=-1)]: Done 192 tasks      | elapsed:    9.0s\n",
      "[Parallel(n_jobs=-1)]: Done 200 out of 200 | elapsed:    9.4s finished\n",
      "[Parallel(n_jobs=4)]: Done  42 tasks      | elapsed:    0.1s\n",
      "[Parallel(n_jobs=4)]: Done 192 tasks      | elapsed:    0.3s\n",
      "[Parallel(n_jobs=4)]: Done 200 out of 200 | elapsed:    0.3s finished\n",
      "[Parallel(n_jobs=4)]: Done  42 tasks      | elapsed:    0.1s\n",
      "[Parallel(n_jobs=4)]: Done 192 tasks      | elapsed:    0.5s\n",
      "[Parallel(n_jobs=4)]: Done 200 out of 200 | elapsed:    0.5s finished\n",
      "[Parallel(n_jobs=-1)]: Done  42 tasks      | elapsed:    2.2s\n",
      "[Parallel(n_jobs=-1)]: Done 192 tasks      | elapsed:    9.5s\n",
      "[Parallel(n_jobs=-1)]: Done 200 out of 200 | elapsed:    9.9s finished\n",
      "[Parallel(n_jobs=4)]: Done  42 tasks      | elapsed:    0.1s\n",
      "[Parallel(n_jobs=4)]: Done 192 tasks      | elapsed:    0.3s\n",
      "[Parallel(n_jobs=4)]: Done 200 out of 200 | elapsed:    0.3s finished\n",
      "[Parallel(n_jobs=4)]: Done  42 tasks      | elapsed:    0.1s\n",
      "[Parallel(n_jobs=4)]: Done 192 tasks      | elapsed:    0.5s\n",
      "[Parallel(n_jobs=4)]: Done 200 out of 200 | elapsed:    0.5s finished\n",
      "[Parallel(n_jobs=-1)]: Done  42 tasks      | elapsed:    2.0s\n",
      "[Parallel(n_jobs=-1)]: Done 192 tasks      | elapsed:    9.9s\n",
      "[Parallel(n_jobs=-1)]: Done 200 out of 200 | elapsed:   10.3s finished\n",
      "[Parallel(n_jobs=4)]: Done  42 tasks      | elapsed:    0.1s\n",
      "[Parallel(n_jobs=4)]: Done 192 tasks      | elapsed:    0.3s\n",
      "[Parallel(n_jobs=4)]: Done 200 out of 200 | elapsed:    0.3s finished\n",
      "[Parallel(n_jobs=4)]: Done  42 tasks      | elapsed:    0.1s\n",
      "[Parallel(n_jobs=4)]: Done 192 tasks      | elapsed:    0.5s\n",
      "[Parallel(n_jobs=4)]: Done 200 out of 200 | elapsed:    0.6s finished\n",
      "[Parallel(n_jobs=-1)]: Done  42 tasks      | elapsed:    2.1s\n",
      "[Parallel(n_jobs=-1)]: Done 192 tasks      | elapsed:    9.6s\n",
      "[Parallel(n_jobs=-1)]: Done 200 out of 200 | elapsed:   10.0s finished\n",
      "[Parallel(n_jobs=4)]: Done  42 tasks      | elapsed:    0.1s\n",
      "[Parallel(n_jobs=4)]: Done 192 tasks      | elapsed:    0.3s\n",
      "[Parallel(n_jobs=4)]: Done 200 out of 200 | elapsed:    0.3s finished\n",
      "[Parallel(n_jobs=4)]: Done  42 tasks      | elapsed:    0.1s\n",
      "[Parallel(n_jobs=4)]: Done 192 tasks      | elapsed:    0.6s\n",
      "[Parallel(n_jobs=4)]: Done 200 out of 200 | elapsed:    0.6s finished\n",
      "[Parallel(n_jobs=-1)]: Done  42 tasks      | elapsed:    2.6s\n",
      "[Parallel(n_jobs=-1)]: Done 192 tasks      | elapsed:   11.9s\n",
      "[Parallel(n_jobs=-1)]: Done 200 out of 200 | elapsed:   12.3s finished\n",
      "[Parallel(n_jobs=4)]: Done  42 tasks      | elapsed:    0.1s\n",
      "[Parallel(n_jobs=4)]: Done 192 tasks      | elapsed:    0.3s\n",
      "[Parallel(n_jobs=4)]: Done 200 out of 200 | elapsed:    0.3s finished\n",
      "[Parallel(n_jobs=4)]: Done  42 tasks      | elapsed:    0.1s\n",
      "[Parallel(n_jobs=4)]: Done 192 tasks      | elapsed:    0.5s\n",
      "[Parallel(n_jobs=4)]: Done 200 out of 200 | elapsed:    0.5s finished\n",
      "[Parallel(n_jobs=-1)]: Done  42 tasks      | elapsed:    2.1s\n",
      "[Parallel(n_jobs=-1)]: Done 192 tasks      | elapsed:    9.5s\n",
      "[Parallel(n_jobs=-1)]: Done 200 out of 200 | elapsed:    9.9s finished\n",
      "[Parallel(n_jobs=4)]: Done  42 tasks      | elapsed:    0.1s\n",
      "[Parallel(n_jobs=4)]: Done 192 tasks      | elapsed:    0.3s\n",
      "[Parallel(n_jobs=4)]: Done 200 out of 200 | elapsed:    0.3s finished\n",
      "[Parallel(n_jobs=4)]: Done  42 tasks      | elapsed:    0.1s\n",
      "[Parallel(n_jobs=4)]: Done 192 tasks      | elapsed:    0.7s\n",
      "[Parallel(n_jobs=4)]: Done 200 out of 200 | elapsed:    0.7s finished\n",
      "[Parallel(n_jobs=-1)]: Done  42 tasks      | elapsed:    2.0s\n",
      "[Parallel(n_jobs=-1)]: Done 192 tasks      | elapsed:   11.8s\n",
      "[Parallel(n_jobs=-1)]: Done 200 out of 200 | elapsed:   12.4s finished\n",
      "[Parallel(n_jobs=4)]: Done  42 tasks      | elapsed:    0.1s\n",
      "[Parallel(n_jobs=4)]: Done 192 tasks      | elapsed:    0.6s\n",
      "[Parallel(n_jobs=4)]: Done 200 out of 200 | elapsed:    0.6s finished\n",
      "[Parallel(n_jobs=4)]: Done  42 tasks      | elapsed:    0.1s\n",
      "[Parallel(n_jobs=4)]: Done 192 tasks      | elapsed:    0.7s\n",
      "[Parallel(n_jobs=4)]: Done 200 out of 200 | elapsed:    0.7s finished\n",
      "[Parallel(n_jobs=-1)]: Done  42 tasks      | elapsed:    2.0s\n",
      "[Parallel(n_jobs=-1)]: Done 192 tasks      | elapsed:   10.1s\n",
      "[Parallel(n_jobs=-1)]: Done 200 out of 200 | elapsed:   10.5s finished\n",
      "[Parallel(n_jobs=4)]: Done  42 tasks      | elapsed:    0.1s\n",
      "[Parallel(n_jobs=4)]: Done 192 tasks      | elapsed:    0.4s\n",
      "[Parallel(n_jobs=4)]: Done 200 out of 200 | elapsed:    0.4s finished\n",
      "[Parallel(n_jobs=4)]: Done  42 tasks      | elapsed:    0.2s\n",
      "[Parallel(n_jobs=4)]: Done 192 tasks      | elapsed:    0.7s\n",
      "[Parallel(n_jobs=4)]: Done 200 out of 200 | elapsed:    0.7s finished\n",
      "[Parallel(n_jobs=-1)]: Done  42 tasks      | elapsed:    2.3s\n",
      "[Parallel(n_jobs=-1)]: Done 192 tasks      | elapsed:    9.1s\n",
      "[Parallel(n_jobs=-1)]: Done 200 out of 200 | elapsed:    9.4s finished\n",
      "[Parallel(n_jobs=4)]: Done  42 tasks      | elapsed:    0.1s\n",
      "[Parallel(n_jobs=4)]: Done 192 tasks      | elapsed:    0.3s\n",
      "[Parallel(n_jobs=4)]: Done 200 out of 200 | elapsed:    0.3s finished\n",
      "[Parallel(n_jobs=4)]: Done  42 tasks      | elapsed:    0.1s\n",
      "[Parallel(n_jobs=4)]: Done 192 tasks      | elapsed:    0.5s\n",
      "[Parallel(n_jobs=4)]: Done 200 out of 200 | elapsed:    0.5s finished\n",
      "[Parallel(n_jobs=-1)]: Done  42 tasks      | elapsed:    2.0s\n",
      "[Parallel(n_jobs=-1)]: Done 192 tasks      | elapsed:    9.6s\n",
      "[Parallel(n_jobs=-1)]: Done 200 out of 200 | elapsed:   10.0s finished\n",
      "[Parallel(n_jobs=4)]: Done  42 tasks      | elapsed:    0.1s\n",
      "[Parallel(n_jobs=4)]: Done 192 tasks      | elapsed:    0.3s\n",
      "[Parallel(n_jobs=4)]: Done 200 out of 200 | elapsed:    0.3s finished\n",
      "[Parallel(n_jobs=4)]: Done  42 tasks      | elapsed:    0.1s\n",
      "[Parallel(n_jobs=4)]: Done 192 tasks      | elapsed:    0.7s\n",
      "[Parallel(n_jobs=4)]: Done 200 out of 200 | elapsed:    0.7s finished\n",
      "[Parallel(n_jobs=-1)]: Done  42 tasks      | elapsed:    3.2s\n",
      "[Parallel(n_jobs=-1)]: Done 192 tasks      | elapsed:   13.4s\n",
      "[Parallel(n_jobs=-1)]: Done 200 out of 200 | elapsed:   13.7s finished\n",
      "[Parallel(n_jobs=4)]: Done  42 tasks      | elapsed:    0.1s\n",
      "[Parallel(n_jobs=4)]: Done 192 tasks      | elapsed:    0.3s\n",
      "[Parallel(n_jobs=4)]: Done 200 out of 200 | elapsed:    0.3s finished\n",
      "[Parallel(n_jobs=4)]: Done  42 tasks      | elapsed:    0.1s\n",
      "[Parallel(n_jobs=4)]: Done 192 tasks      | elapsed:    0.5s\n",
      "[Parallel(n_jobs=4)]: Done 200 out of 200 | elapsed:    0.6s finished\n",
      "[Parallel(n_jobs=-1)]: Done  42 tasks      | elapsed:    2.2s\n",
      "[Parallel(n_jobs=-1)]: Done 192 tasks      | elapsed:   10.0s\n",
      "[Parallel(n_jobs=-1)]: Done 200 out of 200 | elapsed:   10.4s finished\n",
      "[Parallel(n_jobs=4)]: Done  42 tasks      | elapsed:    0.1s\n",
      "[Parallel(n_jobs=4)]: Done 192 tasks      | elapsed:    0.3s\n",
      "[Parallel(n_jobs=4)]: Done 200 out of 200 | elapsed:    0.4s finished\n",
      "[Parallel(n_jobs=4)]: Done  42 tasks      | elapsed:    0.1s\n",
      "[Parallel(n_jobs=4)]: Done 192 tasks      | elapsed:    0.7s\n",
      "[Parallel(n_jobs=4)]: Done 200 out of 200 | elapsed:    0.7s finished\n",
      "[Parallel(n_jobs=1)]: Done  12 out of  12 | elapsed:  2.4min finished\n",
      "[Parallel(n_jobs=-1)]: Done  42 tasks      | elapsed:    4.1s\n",
      "[Parallel(n_jobs=-1)]: Done 192 tasks      | elapsed:   15.6s\n",
      "[Parallel(n_jobs=-1)]: Done 200 out of 200 | elapsed:   16.2s finished\n"
     ]
    },
    {
     "data": {
      "text/plain": [
       "GridSearchCV(cv=3, error_score='raise',\n",
       "       estimator=RandomForestClassifier(bootstrap=True, class_weight=None, criterion='gini',\n",
       "            max_depth=None, max_features='auto', max_leaf_nodes=None,\n",
       "            min_impurity_decrease=0.0, min_impurity_split=None,\n",
       "            min_samples_leaf=1, min_samples_split=2,\n",
       "            min_weight_fraction_leaf=0.0, n_estimators=10, n_jobs=-1,\n",
       "            oob_score=False, random_state=1, verbose=1, warm_start=False),\n",
       "       fit_params=None, iid=True, n_jobs=1,\n",
       "       param_grid={'n_estimators': [200], 'min_samples_leaf': [10], 'min_samples_split': [2, 5, 10, 20]},\n",
       "       pre_dispatch='2*n_jobs', refit=True, return_train_score='warn',\n",
       "       scoring='roc_auc', verbose=1)"
      ]
     },
     "execution_count": 183,
     "metadata": {},
     "output_type": "execute_result"
    }
   ],
   "source": [
    "rf = RandomForestClassifier(n_jobs=-1, oob_score=False, verbose=1, random_state=1)\n",
    "param_grid = {'n_estimators':[200],\n",
    "             'min_samples_leaf':[10],\n",
    "             'min_samples_split':[2,5,10,20]\n",
    "             }\n",
    "\n",
    "\n",
    "\n",
    "CV_rf = GridSearchCV(estimator=rf, param_grid=param_grid,scoring='roc_auc', cv= 3, verbose=1)\n",
    "CV_rf.fit(X_train, y_train)"
   ]
  },
  {
   "cell_type": "code",
   "execution_count": 184,
   "metadata": {},
   "outputs": [
    {
     "name": "stderr",
     "output_type": "stream",
     "text": [
      "[Parallel(n_jobs=4)]: Done  42 tasks      | elapsed:    0.2s\n",
      "[Parallel(n_jobs=4)]: Done 192 tasks      | elapsed:    0.8s\n",
      "[Parallel(n_jobs=4)]: Done 200 out of 200 | elapsed:    0.9s finished\n",
      "[Parallel(n_jobs=4)]: Done  42 tasks      | elapsed:    0.1s\n"
     ]
    },
    {
     "name": "stdout",
     "output_type": "stream",
     "text": [
      "0.9469456844543616\n",
      "0.8344988980364405\n"
     ]
    },
    {
     "name": "stderr",
     "output_type": "stream",
     "text": [
      "[Parallel(n_jobs=4)]: Done 192 tasks      | elapsed:    0.4s\n",
      "[Parallel(n_jobs=4)]: Done 200 out of 200 | elapsed:    0.4s finished\n"
     ]
    }
   ],
   "source": [
    "train_score = CV_rf.score(X_train, y_train)\n",
    "test_score = CV_rf.score(X_test, y_test)\n",
    "\n",
    "print(train_score)\n",
    "print(test_score)"
   ]
  },
  {
   "cell_type": "code",
   "execution_count": 185,
   "metadata": {},
   "outputs": [
    {
     "data": {
      "text/plain": [
       "{'min_samples_leaf': 10, 'min_samples_split': 2, 'n_estimators': 200}"
      ]
     },
     "execution_count": 185,
     "metadata": {},
     "output_type": "execute_result"
    }
   ],
   "source": [
    "CV_rf.best_params_"
   ]
  },
  {
   "cell_type": "markdown",
   "metadata": {},
   "source": [
    "## Grid Search CV XGboost"
   ]
  },
  {
   "cell_type": "code",
   "execution_count": null,
   "metadata": {
    "collapsed": true
   },
   "outputs": [],
   "source": [
    "######### This is for 910000 ############\n",
    "param_grid = {'n_estimators': [200],\n",
    "              'learning_rate': [0.2],\n",
    "             'gamma': [1.5],\n",
    "              'reg_lambda': [30]\n",
    "             }\n",
    "drop_index = principal_components[(principal_components[principal_components.columns[0]] > 10) | (principal_components[principal_components.columns[1]]>25) | (principal_components[principal_components.columns[0]]<-9) | (4*principal_components[principal_components.columns[0]] + 5*principal_components[principal_components.columns[1]]>90 ) ].index"
   ]
  },
  {
   "cell_type": "code",
   "execution_count": 20,
   "metadata": {},
   "outputs": [
    {
     "name": "stdout",
     "output_type": "stream",
     "text": [
      "Fitting 3 folds for each of 1 candidates, totalling 3 fits\n"
     ]
    },
    {
     "name": "stderr",
     "output_type": "stream",
     "text": [
      "[Parallel(n_jobs=1)]: Done   3 out of   3 | elapsed:   28.8s finished\n"
     ]
    },
    {
     "data": {
      "text/plain": [
       "GridSearchCV(cv=3, error_score='raise',\n",
       "       estimator=XGBClassifier(base_score=0.5, booster='gbtree', colsample_bylevel=1,\n",
       "       colsample_bytree=1, gamma=0, learning_rate=0.1, max_delta_step=0,\n",
       "       max_depth=3, min_child_weight=1, missing=None, n_estimators=100,\n",
       "       n_jobs=4, nthread=None, objective='binary:logistic', random_state=1,\n",
       "       reg_alpha=0, reg_lambda=1, scale_pos_weight=1, seed=None, silent=0,\n",
       "       subsample=1),\n",
       "       fit_params=None, iid=True, n_jobs=1,\n",
       "       param_grid={'n_estimators': [200], 'learning_rate': [0.2], 'gamma': [1.5], 'reg_lambda': [30]},\n",
       "       pre_dispatch='2*n_jobs', refit=True, return_train_score='warn',\n",
       "       scoring='roc_auc', verbose=1)"
      ]
     },
     "execution_count": 20,
     "metadata": {},
     "output_type": "execute_result"
    }
   ],
   "source": [
    "xgb = XGBClassifier(n_jobs=4, silent=0, random_state=1)\n",
    "# 'learning_rate':[0.01, 0.05, 0.1, 0.2],\n",
    "param_grid = {'n_estimators': [200],\n",
    "              'learning_rate': [0.2],\n",
    "             'gamma': [1.5],\n",
    "              'reg_lambda': [30]\n",
    "             }\n",
    "\n",
    "\n",
    "\n",
    "CV_xgb = GridSearchCV(estimator=xgb, param_grid=param_grid,scoring='roc_auc', cv= 3, verbose=1)\n",
    "CV_xgb.fit(X, y)"
   ]
  },
  {
   "cell_type": "code",
   "execution_count": 21,
   "metadata": {},
   "outputs": [
    {
     "name": "stdout",
     "output_type": "stream",
     "text": [
      "0.8544677437932956\n",
      "0.8569290768350991\n"
     ]
    }
   ],
   "source": [
    "train_score = CV_xgb.score(X_train, y_train)\n",
    "test_score = CV_xgb.score(X_test, y_test)\n",
    "\n",
    "print(train_score)\n",
    "print(test_score)"
   ]
  },
  {
   "cell_type": "code",
   "execution_count": 22,
   "metadata": {},
   "outputs": [
    {
     "data": {
      "text/plain": [
       "{'gamma': 1.5, 'learning_rate': 0.2, 'n_estimators': 200, 'reg_lambda': 30}"
      ]
     },
     "execution_count": 22,
     "metadata": {},
     "output_type": "execute_result"
    }
   ],
   "source": [
    "CV_xgb.best_params_"
   ]
  },
  {
   "cell_type": "code",
   "execution_count": null,
   "metadata": {
    "collapsed": true
   },
   "outputs": [],
   "source": [
    "new_boost = XGBClassifier(n_estimators=200,learning_rate=0.2, gamma=1.5,silent=False,reg_lambda=30, random_state=1, n_jobs=-1)\n",
    "new_boost.fit(X, y)\n",
    "\n",
    "train_score = new_boost.score(X_train, y_train)\n",
    "test_score = new_boost.score(X_test, y_test)\n",
    "\n",
    "print(train_score)\n",
    "print(test_score)"
   ]
  },
  {
   "cell_type": "markdown",
   "metadata": {
    "collapsed": true
   },
   "source": [
    "# Leaderboard dataset"
   ]
  },
  {
   "cell_type": "code",
   "execution_count": 23,
   "metadata": {
    "collapsed": true
   },
   "outputs": [],
   "source": [
    "lead_data = pd.read_csv('Leaderboard_dataset.csv')\n",
    "# lead_data.head(10)"
   ]
  },
  {
   "cell_type": "code",
   "execution_count": 24,
   "metadata": {},
   "outputs": [
    {
     "data": {
      "text/plain": [
       "(25000, 48)"
      ]
     },
     "execution_count": 24,
     "metadata": {},
     "output_type": "execute_result"
    }
   ],
   "source": [
    "lead_cols = ['application_key']+ list(data.columns)[:-1]\n",
    "lead_data = lead_data[lead_cols]\n",
    "lead_data.shape\n",
    "# lead_data.head(10)"
   ]
  },
  {
   "cell_type": "code",
   "execution_count": 25,
   "metadata": {
    "collapsed": true
   },
   "outputs": [],
   "source": [
    "lead_data['mvar47'].replace(to_replace='C', value=0, inplace=True)\n",
    "lead_data['mvar47'].replace(to_replace='L', value=1, inplace=True)"
   ]
  },
  {
   "cell_type": "code",
   "execution_count": 26,
   "metadata": {},
   "outputs": [
    {
     "name": "stdout",
     "output_type": "stream",
     "text": [
      "\n"
     ]
    }
   ],
   "source": [
    "lead_data.fillna(value=lead_data.median(axis=0), inplace=True)\n",
    "print(\"\")"
   ]
  },
  {
   "cell_type": "code",
   "execution_count": 27,
   "metadata": {},
   "outputs": [
    {
     "name": "stdout",
     "output_type": "stream",
     "text": [
      "<class 'pandas.core.frame.DataFrame'>\n"
     ]
    }
   ],
   "source": [
    "X_lead = lead_data[lead_data.columns[1:]]\n",
    "print(type(X_lead))"
   ]
  },
  {
   "cell_type": "code",
   "execution_count": 28,
   "metadata": {
    "collapsed": true
   },
   "outputs": [],
   "source": [
    "X_lead = X_lead.as_matrix()"
   ]
  },
  {
   "cell_type": "code",
   "execution_count": 29,
   "metadata": {
    "collapsed": true
   },
   "outputs": [],
   "source": [
    "X_lead = sc.fit_transform(X_lead)"
   ]
  },
  {
   "cell_type": "markdown",
   "metadata": {},
   "source": [
    "## Submission part"
   ]
  },
  {
   "cell_type": "code",
   "execution_count": 37,
   "metadata": {
    "collapsed": true
   },
   "outputs": [],
   "source": [
    "predictions = predictions[:,1]\n",
    "\n",
    "sub = pd.DataFrame()\n",
    "sub['app_id'] = lead_data['application_key']\n",
    "sub['pred'] = pd.Series(predictions)\n",
    "\n",
    "sub.sort_values(by=['pred'],ascending=True, inplace=True)\n",
    "\n",
    "sub['pred'] = [1 if x >=0.50 else 0 for x in sub['pred']]\n",
    "sub = sub.as_matrix().astype(np.int64)\n",
    "\n",
    "np.savetxt('Etching_coders_IITMadras_223.csv',sub,fmt='%5d', delimiter=\",\")"
   ]
  },
  {
   "cell_type": "code",
   "execution_count": null,
   "metadata": {
    "collapsed": true
   },
   "outputs": [],
   "source": [
    "# sub.to_csv('Etching_coders_IITMadras_109.csv',header=False,index=False)"
   ]
  },
  {
   "cell_type": "markdown",
   "metadata": {
    "collapsed": true
   },
   "source": [
    "## Outlier detection"
   ]
  },
  {
   "cell_type": "code",
   "execution_count": null,
   "metadata": {
    "collapsed": true
   },
   "outputs": [],
   "source": [
    "app1 = list(sub['app_id'][0:10000])\n",
    "app2 = list(sub1['app_id'][0:10000])"
   ]
  },
  {
   "cell_type": "code",
   "execution_count": null,
   "metadata": {
    "collapsed": true
   },
   "outputs": [],
   "source": [
    "data.describe()"
   ]
  },
  {
   "cell_type": "code",
   "execution_count": null,
   "metadata": {
    "collapsed": true
   },
   "outputs": [],
   "source": [
    "stats = data.describe()\n",
    "print(stats.index)"
   ]
  },
  {
   "cell_type": "code",
   "execution_count": null,
   "metadata": {
    "collapsed": true
   },
   "outputs": [],
   "source": [
    "list(stats.index) + ['IQ']"
   ]
  },
  {
   "cell_type": "code",
   "execution_count": null,
   "metadata": {
    "collapsed": true
   },
   "outputs": [],
   "source": [
    "IQ = []\n",
    "for col in stats.columns:\n",
    "    IQ.append(stats[col].loc['75%'] - stats[col].loc['25%'])\n",
    "\n",
    "stats.loc['IQ'] = IQ"
   ]
  },
  {
   "cell_type": "code",
   "execution_count": null,
   "metadata": {
    "collapsed": true
   },
   "outputs": [],
   "source": [
    "up_cut = []\n",
    "low_cut = []\n",
    "for col in stats.columns:\n",
    "    up_cut.append(1.5*stats[col].loc['IQ'] + stats[col].loc['75%'])\n",
    "    low_cut.append(stats[col].loc['25%'] - 1.5*stats[col].loc['IQ'])\n",
    "\n",
    "stats.loc['up_cut'] = up_cut\n",
    "stats.loc['low_cut'] = low_cut"
   ]
  },
  {
   "cell_type": "markdown",
   "metadata": {},
   "source": [
    "## Use leaderboard data to train"
   ]
  },
  {
   "cell_type": "code",
   "execution_count": 44,
   "metadata": {
    "collapsed": true
   },
   "outputs": [],
   "source": [
    "X_lead = lead_data[lead_data.columns[1:]]\n",
    "X_lead = X_lead.as_matrix()\n",
    "X_lead = sc.transform(X_lead)"
   ]
  },
  {
   "cell_type": "code",
   "execution_count": 431,
   "metadata": {},
   "outputs": [
    {
     "data": {
      "text/plain": [
       "(25000, 2)"
      ]
     },
     "execution_count": 431,
     "metadata": {},
     "output_type": "execute_result"
    }
   ],
   "source": [
    "# predictions = new_boost.predict_proba(X_lead)\n",
    "predictions = CV_xgb.predict_proba(X_lead)\n",
    "predictions.shape"
   ]
  },
  {
   "cell_type": "code",
   "execution_count": 432,
   "metadata": {
    "collapsed": true
   },
   "outputs": [],
   "source": [
    "predictions = predictions[:,1]"
   ]
  },
  {
   "cell_type": "code",
   "execution_count": 433,
   "metadata": {
    "collapsed": true
   },
   "outputs": [],
   "source": [
    "sub = pd.DataFrame()\n",
    "sub['app_id'] = lead_data['application_key']\n",
    "sub['pred'] = pd.Series(predictions)"
   ]
  },
  {
   "cell_type": "code",
   "execution_count": 434,
   "metadata": {
    "collapsed": true
   },
   "outputs": [],
   "source": [
    "sub['pred'] = [1 if x >=0.50 else 0 for x in sub['pred']]"
   ]
  },
  {
   "cell_type": "code",
   "execution_count": 435,
   "metadata": {},
   "outputs": [
    {
     "data": {
      "text/html": [
       "<div>\n",
       "<style>\n",
       "    .dataframe thead tr:only-child th {\n",
       "        text-align: right;\n",
       "    }\n",
       "\n",
       "    .dataframe thead th {\n",
       "        text-align: left;\n",
       "    }\n",
       "\n",
       "    .dataframe tbody tr th {\n",
       "        vertical-align: top;\n",
       "    }\n",
       "</style>\n",
       "<table border=\"1\" class=\"dataframe\">\n",
       "  <thead>\n",
       "    <tr style=\"text-align: right;\">\n",
       "      <th></th>\n",
       "      <th>application_key</th>\n",
       "      <th>mvar1</th>\n",
       "      <th>mvar2</th>\n",
       "      <th>mvar3</th>\n",
       "      <th>mvar4</th>\n",
       "      <th>mvar5</th>\n",
       "      <th>mvar6</th>\n",
       "      <th>mvar7</th>\n",
       "      <th>mvar8</th>\n",
       "      <th>mvar9</th>\n",
       "      <th>mvar10</th>\n",
       "      <th>mvar12</th>\n",
       "      <th>mvar13</th>\n",
       "      <th>mvar14</th>\n",
       "      <th>mvar16</th>\n",
       "      <th>mvar17</th>\n",
       "      <th>mvar18</th>\n",
       "      <th>mvar19</th>\n",
       "      <th>mvar20</th>\n",
       "      <th>mvar24</th>\n",
       "      <th>mvar25</th>\n",
       "      <th>mvar26</th>\n",
       "      <th>mvar27</th>\n",
       "      <th>mvar28</th>\n",
       "      <th>mvar29</th>\n",
       "      <th>mvar32</th>\n",
       "      <th>mvar33</th>\n",
       "      <th>mvar34</th>\n",
       "      <th>mvar36</th>\n",
       "      <th>mvar37</th>\n",
       "      <th>mvar38</th>\n",
       "      <th>mvar39</th>\n",
       "      <th>mvar42</th>\n",
       "      <th>mvar43</th>\n",
       "      <th>mvar44</th>\n",
       "      <th>mvar47</th>\n",
       "      <th>default_ind</th>\n",
       "    </tr>\n",
       "  </thead>\n",
       "  <tbody>\n",
       "    <tr>\n",
       "      <th>0</th>\n",
       "      <td>350053</td>\n",
       "      <td>1753.0</td>\n",
       "      <td>0.5001</td>\n",
       "      <td>0.0</td>\n",
       "      <td>0.0</td>\n",
       "      <td>0.0</td>\n",
       "      <td>206.0</td>\n",
       "      <td>19179.0</td>\n",
       "      <td>206.0</td>\n",
       "      <td>14221.0</td>\n",
       "      <td>19438.0</td>\n",
       "      <td>785.0</td>\n",
       "      <td>4133.0</td>\n",
       "      <td>27748</td>\n",
       "      <td>0.0</td>\n",
       "      <td>0.0</td>\n",
       "      <td>0.0</td>\n",
       "      <td>1.0</td>\n",
       "      <td>1.0</td>\n",
       "      <td>79.20</td>\n",
       "      <td>1141.0</td>\n",
       "      <td>152.0</td>\n",
       "      <td>152.0</td>\n",
       "      <td>1551.0</td>\n",
       "      <td>8486.0</td>\n",
       "      <td>450.0</td>\n",
       "      <td>13.0833</td>\n",
       "      <td>0.0</td>\n",
       "      <td>3.0</td>\n",
       "      <td>11.0</td>\n",
       "      <td>1.0</td>\n",
       "      <td>0.0</td>\n",
       "      <td>0.42105</td>\n",
       "      <td>3.0</td>\n",
       "      <td>0.85661</td>\n",
       "      <td>1</td>\n",
       "      <td>0</td>\n",
       "    </tr>\n",
       "    <tr>\n",
       "      <th>1</th>\n",
       "      <td>350054</td>\n",
       "      <td>1894.0</td>\n",
       "      <td>1.9701</td>\n",
       "      <td>0.0</td>\n",
       "      <td>0.0</td>\n",
       "      <td>0.0</td>\n",
       "      <td>297.0</td>\n",
       "      <td>19820.0</td>\n",
       "      <td>19820.0</td>\n",
       "      <td>176895.0</td>\n",
       "      <td>66346.0</td>\n",
       "      <td>1816.0</td>\n",
       "      <td>944.0</td>\n",
       "      <td>89190</td>\n",
       "      <td>0.0</td>\n",
       "      <td>0.0</td>\n",
       "      <td>0.0</td>\n",
       "      <td>0.0</td>\n",
       "      <td>0.0</td>\n",
       "      <td>2.97</td>\n",
       "      <td>2186.0</td>\n",
       "      <td>4563.0</td>\n",
       "      <td>4563.0</td>\n",
       "      <td>30386.0</td>\n",
       "      <td>10220.0</td>\n",
       "      <td>1222.0</td>\n",
       "      <td>1.8333</td>\n",
       "      <td>0.0</td>\n",
       "      <td>3.0</td>\n",
       "      <td>12.0</td>\n",
       "      <td>3.0</td>\n",
       "      <td>0.0</td>\n",
       "      <td>0.00000</td>\n",
       "      <td>15.0</td>\n",
       "      <td>0.94391</td>\n",
       "      <td>0</td>\n",
       "      <td>0</td>\n",
       "    </tr>\n",
       "  </tbody>\n",
       "</table>\n",
       "</div>"
      ],
      "text/plain": [
       "   application_key   mvar1   mvar2  mvar3  mvar4  mvar5  mvar6    mvar7    mvar8     mvar9   mvar10  mvar12  mvar13  mvar14  mvar16  mvar17  mvar18  mvar19  mvar20  mvar24  mvar25  mvar26  mvar27   mvar28   mvar29  mvar32   mvar33  mvar34  mvar36  mvar37  mvar38  mvar39   mvar42  mvar43   mvar44  mvar47  default_ind\n",
       "0           350053  1753.0  0.5001    0.0    0.0    0.0  206.0  19179.0    206.0   14221.0  19438.0   785.0  4133.0   27748     0.0     0.0     0.0     1.0     1.0   79.20  1141.0   152.0   152.0   1551.0   8486.0   450.0  13.0833     0.0     3.0    11.0     1.0     0.0  0.42105     3.0  0.85661       1            0\n",
       "1           350054  1894.0  1.9701    0.0    0.0    0.0  297.0  19820.0  19820.0  176895.0  66346.0  1816.0   944.0   89190     0.0     0.0     0.0     0.0     0.0    2.97  2186.0  4563.0  4563.0  30386.0  10220.0  1222.0   1.8333     0.0     3.0    12.0     3.0     0.0  0.00000    15.0  0.94391       0            0"
      ]
     },
     "execution_count": 435,
     "metadata": {},
     "output_type": "execute_result"
    }
   ],
   "source": [
    "new_lead_data = lead_data.copy()\n",
    "new_lead_data['default_ind'] = sub['pred']\n",
    "new_lead_data.head(2)"
   ]
  },
  {
   "cell_type": "code",
   "execution_count": 436,
   "metadata": {
    "collapsed": true
   },
   "outputs": [],
   "source": [
    "new_lead_data.columns = ['application_key'] + list(data.columns)"
   ]
  },
  {
   "cell_type": "code",
   "execution_count": 437,
   "metadata": {
    "collapsed": true
   },
   "outputs": [],
   "source": [
    "new_lead_data.drop(['application_key'], axis=1, inplace=True)"
   ]
  },
  {
   "cell_type": "code",
   "execution_count": 52,
   "metadata": {},
   "outputs": [
    {
     "name": "stdout",
     "output_type": "stream",
     "text": [
      "(104755, 39)\n"
     ]
    },
    {
     "data": {
      "text/html": [
       "<div>\n",
       "<style>\n",
       "    .dataframe thead tr:only-child th {\n",
       "        text-align: right;\n",
       "    }\n",
       "\n",
       "    .dataframe thead th {\n",
       "        text-align: left;\n",
       "    }\n",
       "\n",
       "    .dataframe tbody tr th {\n",
       "        vertical-align: top;\n",
       "    }\n",
       "</style>\n",
       "<table border=\"1\" class=\"dataframe\">\n",
       "  <thead>\n",
       "    <tr style=\"text-align: right;\">\n",
       "      <th></th>\n",
       "      <th>mvar1</th>\n",
       "      <th>mvar2</th>\n",
       "      <th>mvar3</th>\n",
       "      <th>mvar4</th>\n",
       "      <th>mvar5</th>\n",
       "      <th>mvar6</th>\n",
       "      <th>mvar7</th>\n",
       "      <th>mvar8</th>\n",
       "      <th>mvar9</th>\n",
       "      <th>mvar10</th>\n",
       "      <th>mvar12</th>\n",
       "      <th>mvar13</th>\n",
       "      <th>mvar14</th>\n",
       "      <th>mvar16</th>\n",
       "      <th>mvar17</th>\n",
       "      <th>mvar18</th>\n",
       "      <th>mvar19</th>\n",
       "      <th>mvar20</th>\n",
       "      <th>mvar21</th>\n",
       "      <th>mvar22</th>\n",
       "      <th>mvar24</th>\n",
       "      <th>mvar25</th>\n",
       "      <th>mvar26</th>\n",
       "      <th>mvar27</th>\n",
       "      <th>mvar28</th>\n",
       "      <th>mvar29</th>\n",
       "      <th>mvar32</th>\n",
       "      <th>mvar33</th>\n",
       "      <th>mvar34</th>\n",
       "      <th>mvar36</th>\n",
       "      <th>mvar37</th>\n",
       "      <th>mvar38</th>\n",
       "      <th>mvar39</th>\n",
       "      <th>mvar42</th>\n",
       "      <th>mvar43</th>\n",
       "      <th>mvar44</th>\n",
       "      <th>mvar46</th>\n",
       "      <th>mvar47</th>\n",
       "      <th>default_ind</th>\n",
       "    </tr>\n",
       "  </thead>\n",
       "  <tbody>\n",
       "    <tr>\n",
       "      <th>104995</th>\n",
       "      <td>1715.0</td>\n",
       "      <td>12.0002</td>\n",
       "      <td>0.000</td>\n",
       "      <td>0.0</td>\n",
       "      <td>0.000</td>\n",
       "      <td>297.0</td>\n",
       "      <td>991.0</td>\n",
       "      <td>2503.0</td>\n",
       "      <td>8751.0</td>\n",
       "      <td>1814.0</td>\n",
       "      <td>0.0</td>\n",
       "      <td>656.0</td>\n",
       "      <td>475680</td>\n",
       "      <td>0.0</td>\n",
       "      <td>0.0</td>\n",
       "      <td>0.0</td>\n",
       "      <td>0.0</td>\n",
       "      <td>0.0</td>\n",
       "      <td>59.5695</td>\n",
       "      <td>0.00</td>\n",
       "      <td>0.00</td>\n",
       "      <td>274.0</td>\n",
       "      <td>1764.0</td>\n",
       "      <td>2555.0</td>\n",
       "      <td>30386.0</td>\n",
       "      <td>5262.0</td>\n",
       "      <td>9.0</td>\n",
       "      <td>3.0000</td>\n",
       "      <td>0.0</td>\n",
       "      <td>5.0</td>\n",
       "      <td>1.0</td>\n",
       "      <td>1.0</td>\n",
       "      <td>0.0</td>\n",
       "      <td>0.07692</td>\n",
       "      <td>4.0</td>\n",
       "      <td>0.73274</td>\n",
       "      <td>0.0</td>\n",
       "      <td>0</td>\n",
       "      <td>1</td>\n",
       "    </tr>\n",
       "    <tr>\n",
       "      <th>104996</th>\n",
       "      <td>1800.0</td>\n",
       "      <td>0.0551</td>\n",
       "      <td>0.000</td>\n",
       "      <td>0.0</td>\n",
       "      <td>0.000</td>\n",
       "      <td>5946.0</td>\n",
       "      <td>14867.0</td>\n",
       "      <td>9613.0</td>\n",
       "      <td>46490.0</td>\n",
       "      <td>44722.0</td>\n",
       "      <td>101.0</td>\n",
       "      <td>6118.0</td>\n",
       "      <td>148650</td>\n",
       "      <td>0.0</td>\n",
       "      <td>0.0</td>\n",
       "      <td>0.0</td>\n",
       "      <td>0.0</td>\n",
       "      <td>0.0</td>\n",
       "      <td>59.5695</td>\n",
       "      <td>0.00</td>\n",
       "      <td>0.24</td>\n",
       "      <td>1805.0</td>\n",
       "      <td>5384.0</td>\n",
       "      <td>4441.0</td>\n",
       "      <td>30386.0</td>\n",
       "      <td>7969.0</td>\n",
       "      <td>178.0</td>\n",
       "      <td>3.0833</td>\n",
       "      <td>0.0</td>\n",
       "      <td>2.0</td>\n",
       "      <td>1.0</td>\n",
       "      <td>4.0</td>\n",
       "      <td>0.0</td>\n",
       "      <td>0.05882</td>\n",
       "      <td>8.0</td>\n",
       "      <td>0.99859</td>\n",
       "      <td>0.0</td>\n",
       "      <td>1</td>\n",
       "      <td>0</td>\n",
       "    </tr>\n",
       "    <tr>\n",
       "      <th>104997</th>\n",
       "      <td>1686.0</td>\n",
       "      <td>1.3301</td>\n",
       "      <td>2.025</td>\n",
       "      <td>0.0</td>\n",
       "      <td>2.025</td>\n",
       "      <td>297.0</td>\n",
       "      <td>0.0</td>\n",
       "      <td>2503.0</td>\n",
       "      <td>4582.0</td>\n",
       "      <td>0.0</td>\n",
       "      <td>3017.0</td>\n",
       "      <td>0.0</td>\n",
       "      <td>99100</td>\n",
       "      <td>0.0</td>\n",
       "      <td>0.0</td>\n",
       "      <td>0.0</td>\n",
       "      <td>0.0</td>\n",
       "      <td>0.0</td>\n",
       "      <td>59.5695</td>\n",
       "      <td>3978.57</td>\n",
       "      <td>0.00</td>\n",
       "      <td>892.0</td>\n",
       "      <td>3772.0</td>\n",
       "      <td>1886.0</td>\n",
       "      <td>30.0</td>\n",
       "      <td>4167.0</td>\n",
       "      <td>176.0</td>\n",
       "      <td>0.0833</td>\n",
       "      <td>0.0</td>\n",
       "      <td>4.0</td>\n",
       "      <td>5.0</td>\n",
       "      <td>0.0</td>\n",
       "      <td>0.0</td>\n",
       "      <td>0.30000</td>\n",
       "      <td>2.0</td>\n",
       "      <td>0.77519</td>\n",
       "      <td>0.0</td>\n",
       "      <td>1</td>\n",
       "      <td>0</td>\n",
       "    </tr>\n",
       "    <tr>\n",
       "      <th>104998</th>\n",
       "      <td>1826.0</td>\n",
       "      <td>0.5424</td>\n",
       "      <td>0.428</td>\n",
       "      <td>0.0</td>\n",
       "      <td>0.000</td>\n",
       "      <td>3568.0</td>\n",
       "      <td>26277.0</td>\n",
       "      <td>9058.0</td>\n",
       "      <td>72739.0</td>\n",
       "      <td>86797.0</td>\n",
       "      <td>1494.0</td>\n",
       "      <td>23266.0</td>\n",
       "      <td>99100</td>\n",
       "      <td>0.0</td>\n",
       "      <td>0.0</td>\n",
       "      <td>1.0</td>\n",
       "      <td>0.0</td>\n",
       "      <td>1.0</td>\n",
       "      <td>8.6000</td>\n",
       "      <td>10140.00</td>\n",
       "      <td>4.73</td>\n",
       "      <td>2208.0</td>\n",
       "      <td>6600.0</td>\n",
       "      <td>4958.0</td>\n",
       "      <td>304.0</td>\n",
       "      <td>9308.0</td>\n",
       "      <td>726.0</td>\n",
       "      <td>33.2500</td>\n",
       "      <td>0.0</td>\n",
       "      <td>7.0</td>\n",
       "      <td>9.0</td>\n",
       "      <td>2.0</td>\n",
       "      <td>0.0</td>\n",
       "      <td>0.03333</td>\n",
       "      <td>11.0</td>\n",
       "      <td>0.40343</td>\n",
       "      <td>0.0</td>\n",
       "      <td>0</td>\n",
       "      <td>0</td>\n",
       "    </tr>\n",
       "    <tr>\n",
       "      <th>104999</th>\n",
       "      <td>1916.0</td>\n",
       "      <td>0.1394</td>\n",
       "      <td>0.000</td>\n",
       "      <td>0.0</td>\n",
       "      <td>0.000</td>\n",
       "      <td>18889.0</td>\n",
       "      <td>18889.0</td>\n",
       "      <td>18889.0</td>\n",
       "      <td>28343.0</td>\n",
       "      <td>51174.0</td>\n",
       "      <td>931.0</td>\n",
       "      <td>43374.0</td>\n",
       "      <td>148650</td>\n",
       "      <td>0.0</td>\n",
       "      <td>0.0</td>\n",
       "      <td>0.0</td>\n",
       "      <td>0.0</td>\n",
       "      <td>0.0</td>\n",
       "      <td>4.6950</td>\n",
       "      <td>3978.57</td>\n",
       "      <td>4.70</td>\n",
       "      <td>3802.0</td>\n",
       "      <td>5232.0</td>\n",
       "      <td>5232.0</td>\n",
       "      <td>30386.0</td>\n",
       "      <td>6905.0</td>\n",
       "      <td>500.0</td>\n",
       "      <td>13.0833</td>\n",
       "      <td>0.0</td>\n",
       "      <td>2.0</td>\n",
       "      <td>4.0</td>\n",
       "      <td>0.0</td>\n",
       "      <td>0.0</td>\n",
       "      <td>0.00000</td>\n",
       "      <td>5.0</td>\n",
       "      <td>0.99663</td>\n",
       "      <td>0.0</td>\n",
       "      <td>0</td>\n",
       "      <td>0</td>\n",
       "    </tr>\n",
       "  </tbody>\n",
       "</table>\n",
       "</div>"
      ],
      "text/plain": [
       "         mvar1    mvar2  mvar3  mvar4  mvar5    mvar6    mvar7    mvar8    mvar9   mvar10  mvar12   mvar13  mvar14  mvar16  mvar17  mvar18  mvar19  mvar20   mvar21    mvar22  mvar24  mvar25  mvar26  mvar27   mvar28  mvar29  mvar32   mvar33  mvar34  mvar36  mvar37  mvar38  mvar39   mvar42  mvar43   mvar44  mvar46  mvar47  default_ind\n",
       "104995  1715.0  12.0002  0.000    0.0  0.000    297.0    991.0   2503.0   8751.0   1814.0     0.0    656.0  475680     0.0     0.0     0.0     0.0     0.0  59.5695      0.00    0.00   274.0  1764.0  2555.0  30386.0  5262.0     9.0   3.0000     0.0     5.0     1.0     1.0     0.0  0.07692     4.0  0.73274     0.0       0            1\n",
       "104996  1800.0   0.0551  0.000    0.0  0.000   5946.0  14867.0   9613.0  46490.0  44722.0   101.0   6118.0  148650     0.0     0.0     0.0     0.0     0.0  59.5695      0.00    0.24  1805.0  5384.0  4441.0  30386.0  7969.0   178.0   3.0833     0.0     2.0     1.0     4.0     0.0  0.05882     8.0  0.99859     0.0       1            0\n",
       "104997  1686.0   1.3301  2.025    0.0  2.025    297.0      0.0   2503.0   4582.0      0.0  3017.0      0.0   99100     0.0     0.0     0.0     0.0     0.0  59.5695   3978.57    0.00   892.0  3772.0  1886.0     30.0  4167.0   176.0   0.0833     0.0     4.0     5.0     0.0     0.0  0.30000     2.0  0.77519     0.0       1            0\n",
       "104998  1826.0   0.5424  0.428    0.0  0.000   3568.0  26277.0   9058.0  72739.0  86797.0  1494.0  23266.0   99100     0.0     0.0     1.0     0.0     1.0   8.6000  10140.00    4.73  2208.0  6600.0  4958.0    304.0  9308.0   726.0  33.2500     0.0     7.0     9.0     2.0     0.0  0.03333    11.0  0.40343     0.0       0            0\n",
       "104999  1916.0   0.1394  0.000    0.0  0.000  18889.0  18889.0  18889.0  28343.0  51174.0   931.0  43374.0  148650     0.0     0.0     0.0     0.0     0.0   4.6950   3978.57    4.70  3802.0  5232.0  5232.0  30386.0  6905.0   500.0  13.0833     0.0     2.0     4.0     0.0     0.0  0.00000     5.0  0.99663     0.0       0            0"
      ]
     },
     "execution_count": 52,
     "metadata": {},
     "output_type": "execute_result"
    }
   ],
   "source": [
    "new_lead_data.index = list(range(80000,105000))\n",
    "frame = [data, new_lead_data]\n",
    "new_train_data = pd.concat(frame)\n",
    "# new_train_data = new_lead_data\n",
    "print(new_train_data.shape)\n",
    "new_train_data.tail()"
   ]
  },
  {
   "cell_type": "markdown",
   "metadata": {},
   "source": [
    "### Training on the new dataset"
   ]
  },
  {
   "cell_type": "code",
   "execution_count": 53,
   "metadata": {
    "collapsed": true
   },
   "outputs": [],
   "source": [
    "feature = new_train_data.columns[:-1]\n",
    "target = new_train_data.columns[-1]\n",
    "X = new_train_data[feature]\n",
    "y = new_train_data[target]\n",
    "# X = X.as_matrix()\n",
    "# y = y.as_matrix()"
   ]
  },
  {
   "cell_type": "code",
   "execution_count": 54,
   "metadata": {
    "collapsed": true
   },
   "outputs": [],
   "source": [
    "sc = StandardScaler()\n",
    "X = sc.fit_transform(X)"
   ]
  },
  {
   "cell_type": "code",
   "execution_count": 55,
   "metadata": {},
   "outputs": [
    {
     "name": "stdout",
     "output_type": "stream",
     "text": [
      "Fitting 3 folds for each of 1 candidates, totalling 3 fits\n"
     ]
    },
    {
     "name": "stderr",
     "output_type": "stream",
     "text": [
      "[Parallel(n_jobs=1)]: Done   3 out of   3 | elapsed:  1.0min finished\n"
     ]
    },
    {
     "data": {
      "text/plain": [
       "GridSearchCV(cv=3, error_score='raise',\n",
       "       estimator=XGBClassifier(base_score=0.5, booster='gbtree', colsample_bylevel=1,\n",
       "       colsample_bytree=1, gamma=0, learning_rate=0.1, max_delta_step=0,\n",
       "       max_depth=3, min_child_weight=1, missing=None, n_estimators=100,\n",
       "       n_jobs=-1, nthread=None, objective='binary:logistic',\n",
       "       random_state=1, reg_alpha=0, reg_lambda=1, scale_pos_weight=1,\n",
       "       seed=None, silent=False, subsample=1),\n",
       "       fit_params=None, iid=True, n_jobs=1,\n",
       "       param_grid={'n_estimators': [200], 'learning_rate': [0.2], 'gamma': [1.5], 'reg_lambda': [30]},\n",
       "       pre_dispatch='2*n_jobs', refit=True, return_train_score='warn',\n",
       "       scoring='roc_auc', verbose=1)"
      ]
     },
     "execution_count": 55,
     "metadata": {},
     "output_type": "execute_result"
    }
   ],
   "source": [
    "xgb = XGBClassifier(n_jobs=4, silent=False, random_state=1)\n",
    "# 'learning_rate':[0.01, 0.05, 0.1, 0.2],\n",
    "param_grid = {'n_estimators': [200],\n",
    "              'learning_rate': [0.2],\n",
    "              'gamma': [1.5],\n",
    "              'reg_lambda': [30]\n",
    "             }\n",
    "\n",
    "\n",
    "\n",
    "CV_xgb = GridSearchCV(estimator=xgb, param_grid=param_grid,scoring='roc_auc', cv= 3, verbose=1)\n",
    "CV_xgb.fit(X, y)"
   ]
  },
  {
   "cell_type": "code",
   "execution_count": 56,
   "metadata": {
    "collapsed": true
   },
   "outputs": [],
   "source": [
    "X_train, X_test, y_train, y_test = train_test_split(X, y, test_size=0.3, random_state=1)"
   ]
  },
  {
   "cell_type": "code",
   "execution_count": 57,
   "metadata": {},
   "outputs": [
    {
     "name": "stdout",
     "output_type": "stream",
     "text": [
      "0.8803181892061337\n",
      "0.8772688571887564\n"
     ]
    }
   ],
   "source": [
    "train_score = CV_xgb.score(X_train, y_train)\n",
    "test_score = CV_xgb.score(X_test, y_test)\n",
    "\n",
    "print(train_score)\n",
    "print(test_score)"
   ]
  },
  {
   "cell_type": "code",
   "execution_count": 438,
   "metadata": {},
   "outputs": [
    {
     "data": {
      "text/plain": [
       "(25000, 2)"
      ]
     },
     "execution_count": 438,
     "metadata": {},
     "output_type": "execute_result"
    }
   ],
   "source": [
    "predictions = CV_xgb.predict_proba(X_lead)\n",
    "# predictions = CV_mlp.predict_proba(X_lead)\n",
    "predictions.shape"
   ]
  },
  {
   "cell_type": "code",
   "execution_count": 439,
   "metadata": {
    "collapsed": true
   },
   "outputs": [],
   "source": [
    "predictions = predictions[:,1]"
   ]
  },
  {
   "cell_type": "code",
   "execution_count": 440,
   "metadata": {
    "collapsed": true
   },
   "outputs": [],
   "source": [
    "sub = pd.DataFrame()\n",
    "sub['app_id'] = lead_data['application_key']\n",
    "sub['pred'] = pd.Series(predictions)"
   ]
  },
  {
   "cell_type": "code",
   "execution_count": 441,
   "metadata": {
    "collapsed": true
   },
   "outputs": [],
   "source": [
    "sub.sort_values(by=['pred'],ascending=True, inplace=True)"
   ]
  },
  {
   "cell_type": "code",
   "execution_count": 442,
   "metadata": {
    "collapsed": true
   },
   "outputs": [],
   "source": [
    "sub['pred'] = [1 if x >=0.50 else 0 for x in sub['pred']]\n",
    "sub = sub.as_matrix().astype(np.int64)"
   ]
  },
  {
   "cell_type": "code",
   "execution_count": 443,
   "metadata": {
    "collapsed": true
   },
   "outputs": [],
   "source": [
    "np.savetxt('Etching_coders_IITMadras_251.csv',sub,fmt='%5d', delimiter=\",\")"
   ]
  },
  {
   "cell_type": "markdown",
   "metadata": {},
   "source": [
    "# Stacking"
   ]
  },
  {
   "cell_type": "code",
   "execution_count": 143,
   "metadata": {},
   "outputs": [
    {
     "name": "stdout",
     "output_type": "stream",
     "text": [
      "Iteration 1, loss = 0.42902535\n",
      "Validation score: 0.791499\n",
      "Iteration 2, loss = 0.41689559\n",
      "Validation score: 0.792001\n",
      "Iteration 3, loss = 0.41358086\n",
      "Validation score: 0.790246\n",
      "Iteration 4, loss = 0.41094758\n",
      "Validation score: 0.792503\n",
      "Iteration 5, loss = 0.40827376\n",
      "Validation score: 0.786610\n",
      "Iteration 6, loss = 0.40661032\n",
      "Validation score: 0.791625\n",
      "Iteration 7, loss = 0.40442068\n",
      "Validation score: 0.791249\n",
      "Validation score did not improve more than tol=0.000100 for two consecutive epochs. Stopping.\n"
     ]
    },
    {
     "data": {
      "text/plain": [
       "MLPClassifier(activation='relu', alpha=0.0001, batch_size='auto', beta_1=0.9,\n",
       "       beta_2=0.999, early_stopping=True, epsilon=1e-08,\n",
       "       hidden_layer_sizes=(400, 300, 200, 50, 25, 12),\n",
       "       learning_rate='constant', learning_rate_init=0.001, max_iter=200,\n",
       "       momentum=0.9, nesterovs_momentum=True, power_t=0.5, random_state=1,\n",
       "       shuffle=True, solver='adam', tol=0.0001, validation_fraction=0.1,\n",
       "       verbose=True, warm_start=False)"
      ]
     },
     "execution_count": 143,
     "metadata": {},
     "output_type": "execute_result"
    }
   ],
   "source": [
    "mlp = MLPClassifier(hidden_layer_sizes=(400,300,200,50,25,12),verbose=True,early_stopping=True, random_state=1)\n",
    "\n",
    "mlp.fit(X, y)"
   ]
  },
  {
   "cell_type": "code",
   "execution_count": 144,
   "metadata": {},
   "outputs": [
    {
     "name": "stdout",
     "output_type": "stream",
     "text": [
      "0.8051694490219962\n",
      "0.8050319722489238\n"
     ]
    }
   ],
   "source": [
    "train_score = mlp.score(X_train, y_train)\n",
    "test_score = mlp.score(X_test, y_test)\n",
    "\n",
    "print(train_score)\n",
    "print(test_score)"
   ]
  },
  {
   "cell_type": "code",
   "execution_count": 231,
   "metadata": {},
   "outputs": [
    {
     "name": "stdout",
     "output_type": "stream",
     "text": [
      "Fitting 3 folds for each of 1 candidates, totalling 3 fits\n",
      "Iteration 1, loss = 0.57002864\n",
      "Validation score: 0.790256\n",
      "Iteration 2, loss = 0.51730125\n",
      "Validation score: 0.794771\n",
      "Iteration 3, loss = 0.50611308\n",
      "Validation score: 0.795899\n",
      "Iteration 4, loss = 0.49919529\n",
      "Validation score: 0.793642\n",
      "Iteration 5, loss = 0.49360368\n",
      "Validation score: 0.797968\n",
      "Iteration 6, loss = 0.48859541\n",
      "Validation score: 0.798345\n",
      "Iteration 7, loss = 0.48449421\n",
      "Validation score: 0.793454\n",
      "Iteration 8, loss = 0.48086590\n",
      "Validation score: 0.798157\n",
      "Iteration 9, loss = 0.47756576\n",
      "Validation score: 0.800978\n",
      "Iteration 10, loss = 0.47442250\n",
      "Validation score: 0.797780\n",
      "Iteration 11, loss = 0.47185035\n",
      "Validation score: 0.798533\n",
      "Iteration 12, loss = 0.46890736\n",
      "Validation score: 0.797216\n",
      "Validation score did not improve more than tol=0.000100 for two consecutive epochs. Stopping.\n",
      "Iteration 1, loss = 0.57097338\n",
      "Validation score: 0.803800\n",
      "Iteration 2, loss = 0.51677763\n",
      "Validation score: 0.807186\n",
      "Iteration 3, loss = 0.50522847\n",
      "Validation score: 0.803236\n",
      "Iteration 4, loss = 0.49817694\n",
      "Validation score: 0.808126\n",
      "Iteration 5, loss = 0.49215381\n",
      "Validation score: 0.809067\n",
      "Iteration 6, loss = 0.48708258\n",
      "Validation score: 0.807938\n",
      "Iteration 7, loss = 0.48273530\n",
      "Validation score: 0.808691\n",
      "Iteration 8, loss = 0.47895814\n",
      "Validation score: 0.812453\n",
      "Iteration 9, loss = 0.47522527\n",
      "Validation score: 0.812641\n",
      "Iteration 10, loss = 0.47231596\n",
      "Validation score: 0.808503\n",
      "Iteration 11, loss = 0.46922054\n",
      "Validation score: 0.812265\n",
      "Iteration 12, loss = 0.46671780\n",
      "Validation score: 0.804740\n",
      "Validation score did not improve more than tol=0.000100 for two consecutive epochs. Stopping.\n",
      "Iteration 1, loss = 0.56882181\n",
      "Validation score: 0.802859\n",
      "Iteration 2, loss = 0.51273017\n",
      "Validation score: 0.804552\n",
      "Iteration 3, loss = 0.50138086\n",
      "Validation score: 0.804552\n",
      "Iteration 4, loss = 0.49422066\n",
      "Validation score: 0.805117\n",
      "Iteration 5, loss = 0.48843935\n",
      "Validation score: 0.807562\n",
      "Iteration 6, loss = 0.48355046\n",
      "Validation score: 0.806998\n",
      "Iteration 7, loss = 0.47929938\n",
      "Validation score: 0.806057\n",
      "Iteration 8, loss = 0.47539461\n",
      "Validation score: 0.807750\n",
      "Iteration 9, loss = 0.47215665\n",
      "Validation score: 0.808691\n",
      "Iteration 10, loss = 0.46896201\n",
      "Validation score: 0.805493\n",
      "Iteration 11, loss = 0.46608924\n",
      "Validation score: 0.812077\n",
      "Iteration 12, loss = 0.46328297\n",
      "Validation score: 0.805681\n",
      "Iteration 13, loss = 0.46075667\n",
      "Validation score: 0.808691\n",
      "Iteration 14, loss = 0.45861711\n",
      "Validation score: 0.810008\n",
      "Validation score did not improve more than tol=0.000100 for two consecutive epochs. Stopping.\n"
     ]
    },
    {
     "name": "stderr",
     "output_type": "stream",
     "text": [
      "[Parallel(n_jobs=1)]: Done   3 out of   3 | elapsed:   52.2s finished\n"
     ]
    },
    {
     "name": "stdout",
     "output_type": "stream",
     "text": [
      "Iteration 1, loss = 0.55334333\n",
      "Validation score: 0.794332\n",
      "Iteration 2, loss = 0.50699900\n",
      "Validation score: 0.793454\n",
      "Iteration 3, loss = 0.49627349\n",
      "Validation score: 0.796840\n",
      "Iteration 4, loss = 0.48846567\n",
      "Validation score: 0.796213\n",
      "Iteration 5, loss = 0.48226622\n",
      "Validation score: 0.797341\n",
      "Iteration 6, loss = 0.47721669\n",
      "Validation score: 0.797467\n",
      "Iteration 7, loss = 0.47288765\n",
      "Validation score: 0.799348\n",
      "Iteration 8, loss = 0.46900741\n",
      "Validation score: 0.799724\n",
      "Iteration 9, loss = 0.46555375\n",
      "Validation score: 0.799975\n",
      "Iteration 10, loss = 0.46260543\n",
      "Validation score: 0.799599\n",
      "Iteration 11, loss = 0.45988969\n",
      "Validation score: 0.800853\n",
      "Iteration 12, loss = 0.45731504\n",
      "Validation score: 0.797592\n",
      "Iteration 13, loss = 0.45493629\n",
      "Validation score: 0.801981\n",
      "Iteration 14, loss = 0.45302648\n",
      "Validation score: 0.800100\n",
      "Iteration 15, loss = 0.45073106\n",
      "Validation score: 0.799222\n",
      "Iteration 16, loss = 0.44870897\n",
      "Validation score: 0.801104\n",
      "Validation score did not improve more than tol=0.000100 for two consecutive epochs. Stopping.\n"
     ]
    },
    {
     "data": {
      "text/plain": [
       "GridSearchCV(cv=3, error_score='raise',\n",
       "       estimator=MLPClassifier(activation='relu', alpha=0.0001, batch_size='auto', beta_1=0.9,\n",
       "       beta_2=0.999, early_stopping=True, epsilon=1e-08,\n",
       "       hidden_layer_sizes=(100,), learning_rate='adaptive',\n",
       "       learning_rate_init=0.001, max_iter=200, momentum=0.9,\n",
       "       nesterovs_momentum=True, power_t=0.5, random_state=1, shuffle=True,\n",
       "       solver='adam', tol=0.0001, validation_fraction=0.1, verbose=True,\n",
       "       warm_start=False),\n",
       "       fit_params=None, iid=True, n_jobs=1,\n",
       "       param_grid={'alpha': [0.1], 'learning_rate_init': [0.0001], 'hidden_layer_sizes': [(200, 100, 75, 50, 25)]},\n",
       "       pre_dispatch='2*n_jobs', refit=True, return_train_score='warn',\n",
       "       scoring='roc_auc', verbose=1)"
      ]
     },
     "execution_count": 231,
     "metadata": {},
     "output_type": "execute_result"
    }
   ],
   "source": [
    "mlp = MLPClassifier(learning_rate='adaptive', verbose=True, early_stopping=True, random_state=1)\n",
    "param_grid = {'alpha': [0.1],\n",
    "              'learning_rate_init': [0.0001],\n",
    "              'hidden_layer_sizes': [(200, 100, 75, 50, 25)]\n",
    "             }\n",
    "\n",
    "\n",
    "\n",
    "CV_mlp = GridSearchCV(estimator=mlp, param_grid=param_grid,scoring='roc_auc', cv= 3, verbose=1)\n",
    "CV_mlp.fit(X, y)"
   ]
  },
  {
   "cell_type": "code",
   "execution_count": 232,
   "metadata": {},
   "outputs": [
    {
     "name": "stdout",
     "output_type": "stream",
     "text": [
      "0.8431207338797967\n",
      "0.843661720403483\n"
     ]
    }
   ],
   "source": [
    "train_score = CV_mlp.score(X_train, y_train)\n",
    "test_score = CV_mlp.score(X_test, y_test)\n",
    "\n",
    "print(train_score)\n",
    "print(test_score)"
   ]
  },
  {
   "cell_type": "code",
   "execution_count": 233,
   "metadata": {},
   "outputs": [
    {
     "data": {
      "text/plain": [
       "{'alpha': 0.1,\n",
       " 'hidden_layer_sizes': (200, 100, 75, 50, 25),\n",
       " 'learning_rate_init': 0.0001}"
      ]
     },
     "execution_count": 233,
     "metadata": {},
     "output_type": "execute_result"
    }
   ],
   "source": [
    "CV_mlp.best_params_"
   ]
  },
  {
   "cell_type": "markdown",
   "metadata": {},
   "source": [
    "### Feature importances"
   ]
  },
  {
   "cell_type": "code",
   "execution_count": 606,
   "metadata": {},
   "outputs": [
    {
     "data": {
      "text/plain": [
       "RandomForestClassifier(bootstrap=True, class_weight=None, criterion='gini',\n",
       "            max_depth=None, max_features='auto', max_leaf_nodes=None,\n",
       "            min_impurity_decrease=0.0, min_impurity_split=None,\n",
       "            min_samples_leaf=10, min_samples_split=2,\n",
       "            min_weight_fraction_leaf=0.0, n_estimators=200, n_jobs=1,\n",
       "            oob_score=False, random_state=1, verbose=0, warm_start=False)"
      ]
     },
     "execution_count": 606,
     "metadata": {},
     "output_type": "execute_result"
    }
   ],
   "source": [
    "rf = RandomForestClassifier(n_estimators=200, min_samples_split=2, min_samples_leaf=10, random_state=1)\n",
    "\n",
    "rf.fit(X,y)"
   ]
  },
  {
   "cell_type": "code",
   "execution_count": 607,
   "metadata": {},
   "outputs": [
    {
     "name": "stdout",
     "output_type": "stream",
     "text": [
      "0.8754568909911847\n",
      "0.8765886287625418\n"
     ]
    }
   ],
   "source": [
    "train_score = rf.score(X_train, y_train)\n",
    "test_score = rf.score(X_test, y_test)\n",
    "\n",
    "print(train_score)\n",
    "print(test_score)"
   ]
  },
  {
   "cell_type": "code",
   "execution_count": 608,
   "metadata": {
    "collapsed": true
   },
   "outputs": [],
   "source": [
    "imps = rf.feature_importances_"
   ]
  },
  {
   "cell_type": "code",
   "execution_count": 609,
   "metadata": {},
   "outputs": [
    {
     "name": "stdout",
     "output_type": "stream",
     "text": [
      "47\n"
     ]
    }
   ],
   "source": [
    "print(len(imps))"
   ]
  },
  {
   "cell_type": "code",
   "execution_count": 610,
   "metadata": {},
   "outputs": [
    {
     "data": {
      "text/plain": [
       "<Container object of 47 artists>"
      ]
     },
     "execution_count": 610,
     "metadata": {},
     "output_type": "execute_result"
    },
    {
     "data": {
      "image/png": "[encoded data removed]",
      "text/plain": [
       "<matplotlib.figure.Figure at 0x7f2e56720278>"
      ]
     },
     "metadata": {},
     "output_type": "display_data"
    }
   ],
   "source": [
    "plt.bar(range(X.shape[1]),imps)"
   ]
  },
  {
   "cell_type": "code",
   "execution_count": 611,
   "metadata": {
    "collapsed": true
   },
   "outputs": [],
   "source": [
    "rem_inds = [x for x in range(len(imps)) if imps[x]<0.008]"
   ]
  },
  {
   "cell_type": "code",
   "execution_count": 612,
   "metadata": {},
   "outputs": [
    {
     "data": {
      "text/plain": [
       "10"
      ]
     },
     "execution_count": 612,
     "metadata": {},
     "output_type": "execute_result"
    }
   ],
   "source": [
    "len(rem_inds)"
   ]
  },
  {
   "cell_type": "code",
   "execution_count": 613,
   "metadata": {},
   "outputs": [
    {
     "data": {
      "text/plain": [
       "(79732, 47)"
      ]
     },
     "execution_count": 613,
     "metadata": {},
     "output_type": "execute_result"
    }
   ],
   "source": [
    "X.shape"
   ]
  },
  {
   "cell_type": "code",
   "execution_count": 614,
   "metadata": {},
   "outputs": [
    {
     "name": "stdout",
     "output_type": "stream",
     "text": [
      "[0, 1, 2, 5, 6, 7, 8, 9, 10, 11, 12, 13, 14, 16, 17, 18, 19, 20, 21, 22, 23, 24, 25, 26, 27, 28, 29, 30, 31, 32, 35, 36, 37, 41, 42, 43, 46]\n"
     ]
    }
   ],
   "source": [
    "new = pd.DataFrame(X)\n",
    "cols = list(new.columns)\n",
    "for i in rem_inds:\n",
    "    cols.remove(i)\n",
    "print(cols)"
   ]
  },
  {
   "cell_type": "code",
   "execution_count": 615,
   "metadata": {
    "collapsed": true
   },
   "outputs": [],
   "source": [
    "new = new[cols]"
   ]
  },
  {
   "cell_type": "code",
   "execution_count": 616,
   "metadata": {},
   "outputs": [
    {
     "data": {
      "text/plain": [
       "(79732, 37)"
      ]
     },
     "execution_count": 616,
     "metadata": {},
     "output_type": "execute_result"
    }
   ],
   "source": [
    "new.shape"
   ]
  },
  {
   "cell_type": "code",
   "execution_count": 617,
   "metadata": {
    "collapsed": true
   },
   "outputs": [],
   "source": [
    "X = new.as_matrix()"
   ]
  },
  {
   "cell_type": "code",
   "execution_count": 618,
   "metadata": {},
   "outputs": [
    {
     "name": "stdout",
     "output_type": "stream",
     "text": [
      "Fitting 3 folds for each of 1 candidates, totalling 3 fits\n"
     ]
    },
    {
     "name": "stderr",
     "output_type": "stream",
     "text": [
      "[Parallel(n_jobs=1)]: Done   3 out of   3 | elapsed:   24.3s finished\n"
     ]
    },
    {
     "data": {
      "text/plain": [
       "GridSearchCV(cv=3, error_score='raise',\n",
       "       estimator=XGBClassifier(base_score=0.5, booster='gbtree', colsample_bylevel=1,\n",
       "       colsample_bytree=1, gamma=0, learning_rate=0.1, max_delta_step=0,\n",
       "       max_depth=3, min_child_weight=1, missing=None, n_estimators=100,\n",
       "       n_jobs=4, nthread=None, objective='binary:logistic', random_state=1,\n",
       "       reg_alpha=0, reg_lambda=1, scale_pos_weight=1, seed=None,\n",
       "       silent=False, subsample=1),\n",
       "       fit_params=None, iid=True, n_jobs=1,\n",
       "       param_grid={'n_estimators': [200], 'learning_rate': [0.2], 'gamma': [1.5], 'reg_lambda': [30]},\n",
       "       pre_dispatch='2*n_jobs', refit=True, return_train_score='warn',\n",
       "       scoring='roc_auc', verbose=1)"
      ]
     },
     "execution_count": 618,
     "metadata": {},
     "output_type": "execute_result"
    }
   ],
   "source": [
    "xgb = XGBClassifier(n_jobs=4, silent=False, random_state=1)\n",
    "# 'learning_rate':[0.01, 0.05, 0.1, 0.2],\n",
    "param_grid = {'n_estimators': [200],\n",
    "              'learning_rate': [0.2],\n",
    "              'gamma': [1.5],\n",
    "              'reg_lambda': [30]\n",
    "             }\n",
    "\n",
    "\n",
    "\n",
    "CV_xgb = GridSearchCV(estimator=xgb, param_grid=param_grid,scoring='roc_auc', cv= 3, verbose=1)\n",
    "CV_xgb.fit(X, y)"
   ]
  },
  {
   "cell_type": "code",
   "execution_count": 619,
   "metadata": {
    "collapsed": true
   },
   "outputs": [],
   "source": [
    "X_train, X_test, y_train, y_test = train_test_split(X, y, test_size=0.3, random_state=1)"
   ]
  },
  {
   "cell_type": "code",
   "execution_count": 620,
   "metadata": {},
   "outputs": [
    {
     "name": "stdout",
     "output_type": "stream",
     "text": [
      "0.8524006160806901\n",
      "0.854470179162024\n"
     ]
    }
   ],
   "source": [
    "train_score = CV_xgb.score(X_train, y_train)\n",
    "test_score = CV_xgb.score(X_test, y_test)\n",
    "\n",
    "print(train_score)\n",
    "print(test_score)"
   ]
  },
  {
   "cell_type": "code",
   "execution_count": 621,
   "metadata": {},
   "outputs": [
    {
     "data": {
      "text/plain": [
       "(25000, 43)"
      ]
     },
     "execution_count": 621,
     "metadata": {},
     "output_type": "execute_result"
    }
   ],
   "source": [
    "X_lead.shape"
   ]
  },
  {
   "cell_type": "code",
   "execution_count": 631,
   "metadata": {
    "collapsed": true
   },
   "outputs": [],
   "source": [
    "old = pd.DataFrame(X_lead)"
   ]
  },
  {
   "cell_type": "code",
   "execution_count": 632,
   "metadata": {},
   "outputs": [
    {
     "data": {
      "text/plain": [
       "(25000, 37)"
      ]
     },
     "execution_count": 632,
     "metadata": {},
     "output_type": "execute_result"
    }
   ],
   "source": [
    "old = old[cols]\n",
    "X_lead = old.as_matrix()\n",
    "X_lead.shape"
   ]
  },
  {
   "cell_type": "code",
   "execution_count": 36,
   "metadata": {
    "collapsed": true
   },
   "outputs": [],
   "source": [
    "predictions = gnb.predict_proba(X_lead)\n",
    "# predictions = CV_mlp.predict_proba(X_lead)\n",
    "predictions.shape\n",
    "\n",
    "predictions = predictions[:,1]\n",
    "\n",
    "sub = pd.DataFrame()\n",
    "sub['app_id'] = lead_data['application_key']\n",
    "sub['pred'] = pd.Series(predictions)\n",
    "\n",
    "sub.sort_values(by=['pred'],ascending=True, inplace=True)\n",
    "\n",
    "sub['pred'] = [1 if x >=0.50 else 0 for x in sub['pred']]\n",
    "sub = sub.as_matrix().astype(np.int64)\n",
    "\n",
    "np.savetxt('Etching_coders_IITMadras_255.csv',sub,fmt='%5d', delimiter=\",\")"
   ]
  },
  {
   "cell_type": "markdown",
   "metadata": {},
   "source": [
    "# Averaging models"
   ]
  },
  {
   "cell_type": "markdown",
   "metadata": {},
   "source": [
    "## Train model 1"
   ]
  },
  {
   "cell_type": "code",
   "execution_count": null,
   "metadata": {
    "collapsed": true
   },
   "outputs": [],
   "source": [
    "xgb = XGBClassifier(n_jobs=4, silent=0, random_state=1)\n",
    "# 'learning_rate':[0.01, 0.05, 0.1, 0.2],\n",
    "param_grid = {'n_estimators': [200],\n",
    "              'learning_rate': [0.2],\n",
    "             'gamma': [1.5],\n",
    "              'reg_lambda': [30]\n",
    "             }\n",
    "\n",
    "\n",
    "\n",
    "CV_xgb = GridSearchCV(estimator=xgb, param_grid=param_grid,scoring='roc_auc', cv= 3, verbose=1)\n",
    "CV_xgb.fit(X, y)"
   ]
  },
  {
   "cell_type": "code",
   "execution_count": null,
   "metadata": {
    "collapsed": true
   },
   "outputs": [],
   "source": [
    "train_score = CV_xgb.score(X_train, y_train)\n",
    "test_score = CV_xgb.score(X_test, y_test)\n",
    "\n",
    "print(train_score)\n",
    "print(test_score)"
   ]
  }
 ],
 "metadata": {
  "kernelspec": {
   "display_name": "Python 3",
   "language": "python",
   "name": "python3"
  },
  "language_info": {
   "codemirror_mode": {
    "name": "ipython",
    "version": 3
   },
   "file_extension": ".py",
   "mimetype": "text/x-python",
   "name": "python",
   "nbconvert_exporter": "python",
   "pygments_lexer": "ipython3",
   "version": "3.6.8"
  }
 },
 "nbformat": 4,
 "nbformat_minor": 2
}
